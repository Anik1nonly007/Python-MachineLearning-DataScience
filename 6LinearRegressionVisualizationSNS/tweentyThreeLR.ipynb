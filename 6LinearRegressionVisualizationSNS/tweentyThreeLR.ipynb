{
 "cells": [
  {
   "cell_type": "markdown",
   "metadata": {},
   "source": [
    "#8 Steps of ML:\n",
    "\n",
    "    1.Data Gathering\n",
    "    2.Data pre-processing\n",
    "    3.Feature Engineering\n",
    "    4.Choosing Model\n",
    "    5.Training Model\n",
    "    6.Test Model/Model Evaluation\n",
    "    7.Parameter Tuning#Linear regression has no operation that we can tuning,if we change intercept by ourself then we can tune also ,but its not good\n",
    "    8.Prediction\n"
   ]
  },
  {
   "cell_type": "code",
   "execution_count": 1,
   "metadata": {},
   "outputs": [
    {
     "name": "stdout",
     "output_type": "stream",
     "text": [
      "Collecting seaborn\n",
      "  Using cached seaborn-0.11.2-py3-none-any.whl (292 kB)\n",
      "Requirement already satisfied: numpy>=1.15 in c:\\python3.10.5\\lib\\site-packages (from seaborn) (1.22.4)\n",
      "Collecting scipy>=1.0\n",
      "  Using cached scipy-1.8.1-cp310-cp310-win_amd64.whl (36.9 MB)\n",
      "Requirement already satisfied: pandas>=0.23 in c:\\python3.10.5\\lib\\site-packages (from seaborn) (1.4.2)\n",
      "Requirement already satisfied: matplotlib>=2.2 in c:\\python3.10.5\\lib\\site-packages (from seaborn) (3.5.2)\n",
      "Requirement already satisfied: pillow>=6.2.0 in c:\\python3.10.5\\lib\\site-packages (from matplotlib>=2.2->seaborn) (9.1.1)\n",
      "Requirement already satisfied: packaging>=20.0 in c:\\python3.10.5\\lib\\site-packages (from matplotlib>=2.2->seaborn) (21.3)\n",
      "Requirement already satisfied: kiwisolver>=1.0.1 in c:\\python3.10.5\\lib\\site-packages (from matplotlib>=2.2->seaborn) (1.4.3)\n",
      "Requirement already satisfied: pyparsing>=2.2.1 in c:\\python3.10.5\\lib\\site-packages (from matplotlib>=2.2->seaborn) (3.0.9)\n",
      "Requirement already satisfied: fonttools>=4.22.0 in c:\\python3.10.5\\lib\\site-packages (from matplotlib>=2.2->seaborn) (4.33.3)\n",
      "Requirement already satisfied: python-dateutil>=2.7 in c:\\users\\ntl-nb-16\\appdata\\roaming\\python\\python310\\site-packages (from matplotlib>=2.2->seaborn) (2.8.2)\n",
      "Requirement already satisfied: cycler>=0.10 in c:\\python3.10.5\\lib\\site-packages (from matplotlib>=2.2->seaborn) (0.11.0)\n",
      "Requirement already satisfied: pytz>=2020.1 in c:\\python3.10.5\\lib\\site-packages (from pandas>=0.23->seaborn) (2022.1)\n",
      "Requirement already satisfied: six>=1.5 in c:\\users\\ntl-nb-16\\appdata\\roaming\\python\\python310\\site-packages (from python-dateutil>=2.7->matplotlib>=2.2->seaborn) (1.16.0)\n",
      "Installing collected packages: scipy, seaborn\n",
      "Successfully installed scipy-1.8.1 seaborn-0.11.2\n"
     ]
    },
    {
     "name": "stderr",
     "output_type": "stream",
     "text": [
      "WARNING: You are using pip version 22.0.4; however, version 22.1.2 is available.\n",
      "You should consider upgrading via the 'C:\\python3.10.5\\python.exe -m pip install --upgrade pip' command.\n"
     ]
    }
   ],
   "source": [
    "! pip install seaborn"
   ]
  },
  {
   "cell_type": "code",
   "execution_count": 2,
   "metadata": {},
   "outputs": [],
   "source": [
    "import numpy as np\n",
    "import matplotlib.pyplot as plt\n",
    "import pandas as pd\n",
    "import seaborn as sns#Gave proper visualization\n",
    "%matplotlib inline\n",
    "#produce all the graph here,inside our notebook"
   ]
  },
  {
   "cell_type": "code",
   "execution_count": 3,
   "metadata": {},
   "outputs": [
    {
     "data": {
      "text/html": [
       "<div>\n",
       "<style scoped>\n",
       "    .dataframe tbody tr th:only-of-type {\n",
       "        vertical-align: middle;\n",
       "    }\n",
       "\n",
       "    .dataframe tbody tr th {\n",
       "        vertical-align: top;\n",
       "    }\n",
       "\n",
       "    .dataframe thead th {\n",
       "        text-align: right;\n",
       "    }\n",
       "</style>\n",
       "<table border=\"1\" class=\"dataframe\">\n",
       "  <thead>\n",
       "    <tr style=\"text-align: right;\">\n",
       "      <th></th>\n",
       "      <th>MODELYEAR</th>\n",
       "      <th>MAKE</th>\n",
       "      <th>MODEL</th>\n",
       "      <th>VEHICLECLASS</th>\n",
       "      <th>ENGINESIZE</th>\n",
       "      <th>CYLINDERS</th>\n",
       "      <th>TRANSMISSION</th>\n",
       "      <th>FUELTYPE</th>\n",
       "      <th>FUELCONSUMPTION_CITY</th>\n",
       "      <th>FUELCONSUMPTION_HWY</th>\n",
       "      <th>FUELCONSUMPTION_COMB</th>\n",
       "      <th>FUELCONSUMPTION_COMB_MPG</th>\n",
       "      <th>CO2EMISSIONS</th>\n",
       "    </tr>\n",
       "  </thead>\n",
       "  <tbody>\n",
       "    <tr>\n",
       "      <th>0</th>\n",
       "      <td>2014</td>\n",
       "      <td>ACURA</td>\n",
       "      <td>ILX</td>\n",
       "      <td>COMPACT</td>\n",
       "      <td>2.0</td>\n",
       "      <td>4</td>\n",
       "      <td>AS5</td>\n",
       "      <td>Z</td>\n",
       "      <td>9.9</td>\n",
       "      <td>6.7</td>\n",
       "      <td>8.5</td>\n",
       "      <td>33</td>\n",
       "      <td>196</td>\n",
       "    </tr>\n",
       "    <tr>\n",
       "      <th>1</th>\n",
       "      <td>2014</td>\n",
       "      <td>ACURA</td>\n",
       "      <td>ILX</td>\n",
       "      <td>COMPACT</td>\n",
       "      <td>2.4</td>\n",
       "      <td>4</td>\n",
       "      <td>M6</td>\n",
       "      <td>Z</td>\n",
       "      <td>11.2</td>\n",
       "      <td>7.7</td>\n",
       "      <td>9.6</td>\n",
       "      <td>29</td>\n",
       "      <td>221</td>\n",
       "    </tr>\n",
       "    <tr>\n",
       "      <th>2</th>\n",
       "      <td>2014</td>\n",
       "      <td>ACURA</td>\n",
       "      <td>ILX HYBRID</td>\n",
       "      <td>COMPACT</td>\n",
       "      <td>1.5</td>\n",
       "      <td>4</td>\n",
       "      <td>AV7</td>\n",
       "      <td>Z</td>\n",
       "      <td>6.0</td>\n",
       "      <td>5.8</td>\n",
       "      <td>5.9</td>\n",
       "      <td>48</td>\n",
       "      <td>136</td>\n",
       "    </tr>\n",
       "    <tr>\n",
       "      <th>3</th>\n",
       "      <td>2014</td>\n",
       "      <td>ACURA</td>\n",
       "      <td>MDX 4WD</td>\n",
       "      <td>SUV - SMALL</td>\n",
       "      <td>3.5</td>\n",
       "      <td>6</td>\n",
       "      <td>AS6</td>\n",
       "      <td>Z</td>\n",
       "      <td>12.7</td>\n",
       "      <td>9.1</td>\n",
       "      <td>11.1</td>\n",
       "      <td>25</td>\n",
       "      <td>255</td>\n",
       "    </tr>\n",
       "    <tr>\n",
       "      <th>4</th>\n",
       "      <td>2014</td>\n",
       "      <td>ACURA</td>\n",
       "      <td>RDX AWD</td>\n",
       "      <td>SUV - SMALL</td>\n",
       "      <td>3.5</td>\n",
       "      <td>6</td>\n",
       "      <td>AS6</td>\n",
       "      <td>Z</td>\n",
       "      <td>12.1</td>\n",
       "      <td>8.7</td>\n",
       "      <td>10.6</td>\n",
       "      <td>27</td>\n",
       "      <td>244</td>\n",
       "    </tr>\n",
       "  </tbody>\n",
       "</table>\n",
       "</div>"
      ],
      "text/plain": [
       "   MODELYEAR   MAKE       MODEL VEHICLECLASS  ENGINESIZE  CYLINDERS  \\\n",
       "0       2014  ACURA         ILX      COMPACT         2.0          4   \n",
       "1       2014  ACURA         ILX      COMPACT         2.4          4   \n",
       "2       2014  ACURA  ILX HYBRID      COMPACT         1.5          4   \n",
       "3       2014  ACURA     MDX 4WD  SUV - SMALL         3.5          6   \n",
       "4       2014  ACURA     RDX AWD  SUV - SMALL         3.5          6   \n",
       "\n",
       "  TRANSMISSION FUELTYPE  FUELCONSUMPTION_CITY  FUELCONSUMPTION_HWY  \\\n",
       "0          AS5        Z                   9.9                  6.7   \n",
       "1           M6        Z                  11.2                  7.7   \n",
       "2          AV7        Z                   6.0                  5.8   \n",
       "3          AS6        Z                  12.7                  9.1   \n",
       "4          AS6        Z                  12.1                  8.7   \n",
       "\n",
       "   FUELCONSUMPTION_COMB  FUELCONSUMPTION_COMB_MPG  CO2EMISSIONS  \n",
       "0                   8.5                        33           196  \n",
       "1                   9.6                        29           221  \n",
       "2                   5.9                        48           136  \n",
       "3                  11.1                        25           255  \n",
       "4                  10.6                        27           244  "
      ]
     },
     "execution_count": 3,
     "metadata": {},
     "output_type": "execute_result"
    }
   ],
   "source": [
    "data = pd.read_csv(r'FuelConsumption.csv')\n",
    "data.head()"
   ]
  },
  {
   "cell_type": "code",
   "execution_count": 4,
   "metadata": {},
   "outputs": [
    {
     "name": "stdout",
     "output_type": "stream",
     "text": [
      "<class 'pandas.core.frame.DataFrame'>\n",
      "RangeIndex: 1067 entries, 0 to 1066\n",
      "Data columns (total 13 columns):\n",
      " #   Column                    Non-Null Count  Dtype  \n",
      "---  ------                    --------------  -----  \n",
      " 0   MODELYEAR                 1067 non-null   int64  \n",
      " 1   MAKE                      1067 non-null   object \n",
      " 2   MODEL                     1067 non-null   object \n",
      " 3   VEHICLECLASS              1067 non-null   object \n",
      " 4   ENGINESIZE                1067 non-null   float64\n",
      " 5   CYLINDERS                 1067 non-null   int64  \n",
      " 6   TRANSMISSION              1067 non-null   object \n",
      " 7   FUELTYPE                  1067 non-null   object \n",
      " 8   FUELCONSUMPTION_CITY      1067 non-null   float64\n",
      " 9   FUELCONSUMPTION_HWY       1067 non-null   float64\n",
      " 10  FUELCONSUMPTION_COMB      1067 non-null   float64\n",
      " 11  FUELCONSUMPTION_COMB_MPG  1067 non-null   int64  \n",
      " 12  CO2EMISSIONS              1067 non-null   int64  \n",
      "dtypes: float64(4), int64(4), object(5)\n",
      "memory usage: 108.5+ KB\n"
     ]
    }
   ],
   "source": [
    "data.info()#to see how much col,which type col we have?\n",
    "#no missing values 1067"
   ]
  },
  {
   "cell_type": "code",
   "execution_count": 6,
   "metadata": {},
   "outputs": [
    {
     "data": {
      "text/html": [
       "<div>\n",
       "<style scoped>\n",
       "    .dataframe tbody tr th:only-of-type {\n",
       "        vertical-align: middle;\n",
       "    }\n",
       "\n",
       "    .dataframe tbody tr th {\n",
       "        vertical-align: top;\n",
       "    }\n",
       "\n",
       "    .dataframe thead th {\n",
       "        text-align: right;\n",
       "    }\n",
       "</style>\n",
       "<table border=\"1\" class=\"dataframe\">\n",
       "  <thead>\n",
       "    <tr style=\"text-align: right;\">\n",
       "      <th></th>\n",
       "      <th>MODELYEAR</th>\n",
       "      <th>ENGINESIZE</th>\n",
       "      <th>CYLINDERS</th>\n",
       "      <th>FUELCONSUMPTION_CITY</th>\n",
       "      <th>FUELCONSUMPTION_HWY</th>\n",
       "      <th>FUELCONSUMPTION_COMB</th>\n",
       "      <th>FUELCONSUMPTION_COMB_MPG</th>\n",
       "      <th>CO2EMISSIONS</th>\n",
       "    </tr>\n",
       "  </thead>\n",
       "  <tbody>\n",
       "    <tr>\n",
       "      <th>count</th>\n",
       "      <td>1067.0</td>\n",
       "      <td>1067.000000</td>\n",
       "      <td>1067.000000</td>\n",
       "      <td>1067.000000</td>\n",
       "      <td>1067.000000</td>\n",
       "      <td>1067.000000</td>\n",
       "      <td>1067.000000</td>\n",
       "      <td>1067.000000</td>\n",
       "    </tr>\n",
       "    <tr>\n",
       "      <th>mean</th>\n",
       "      <td>2014.0</td>\n",
       "      <td>3.346298</td>\n",
       "      <td>5.794752</td>\n",
       "      <td>13.296532</td>\n",
       "      <td>9.474602</td>\n",
       "      <td>11.580881</td>\n",
       "      <td>26.441425</td>\n",
       "      <td>256.228679</td>\n",
       "    </tr>\n",
       "    <tr>\n",
       "      <th>std</th>\n",
       "      <td>0.0</td>\n",
       "      <td>1.415895</td>\n",
       "      <td>1.797447</td>\n",
       "      <td>4.101253</td>\n",
       "      <td>2.794510</td>\n",
       "      <td>3.485595</td>\n",
       "      <td>7.468702</td>\n",
       "      <td>63.372304</td>\n",
       "    </tr>\n",
       "    <tr>\n",
       "      <th>min</th>\n",
       "      <td>2014.0</td>\n",
       "      <td>1.000000</td>\n",
       "      <td>3.000000</td>\n",
       "      <td>4.600000</td>\n",
       "      <td>4.900000</td>\n",
       "      <td>4.700000</td>\n",
       "      <td>11.000000</td>\n",
       "      <td>108.000000</td>\n",
       "    </tr>\n",
       "    <tr>\n",
       "      <th>25%</th>\n",
       "      <td>2014.0</td>\n",
       "      <td>2.000000</td>\n",
       "      <td>4.000000</td>\n",
       "      <td>10.250000</td>\n",
       "      <td>7.500000</td>\n",
       "      <td>9.000000</td>\n",
       "      <td>21.000000</td>\n",
       "      <td>207.000000</td>\n",
       "    </tr>\n",
       "    <tr>\n",
       "      <th>50%</th>\n",
       "      <td>2014.0</td>\n",
       "      <td>3.400000</td>\n",
       "      <td>6.000000</td>\n",
       "      <td>12.600000</td>\n",
       "      <td>8.800000</td>\n",
       "      <td>10.900000</td>\n",
       "      <td>26.000000</td>\n",
       "      <td>251.000000</td>\n",
       "    </tr>\n",
       "    <tr>\n",
       "      <th>75%</th>\n",
       "      <td>2014.0</td>\n",
       "      <td>4.300000</td>\n",
       "      <td>8.000000</td>\n",
       "      <td>15.550000</td>\n",
       "      <td>10.850000</td>\n",
       "      <td>13.350000</td>\n",
       "      <td>31.000000</td>\n",
       "      <td>294.000000</td>\n",
       "    </tr>\n",
       "    <tr>\n",
       "      <th>max</th>\n",
       "      <td>2014.0</td>\n",
       "      <td>8.400000</td>\n",
       "      <td>12.000000</td>\n",
       "      <td>30.200000</td>\n",
       "      <td>20.500000</td>\n",
       "      <td>25.800000</td>\n",
       "      <td>60.000000</td>\n",
       "      <td>488.000000</td>\n",
       "    </tr>\n",
       "  </tbody>\n",
       "</table>\n",
       "</div>"
      ],
      "text/plain": [
       "       MODELYEAR   ENGINESIZE    CYLINDERS  FUELCONSUMPTION_CITY  \\\n",
       "count     1067.0  1067.000000  1067.000000           1067.000000   \n",
       "mean      2014.0     3.346298     5.794752             13.296532   \n",
       "std          0.0     1.415895     1.797447              4.101253   \n",
       "min       2014.0     1.000000     3.000000              4.600000   \n",
       "25%       2014.0     2.000000     4.000000             10.250000   \n",
       "50%       2014.0     3.400000     6.000000             12.600000   \n",
       "75%       2014.0     4.300000     8.000000             15.550000   \n",
       "max       2014.0     8.400000    12.000000             30.200000   \n",
       "\n",
       "       FUELCONSUMPTION_HWY  FUELCONSUMPTION_COMB  FUELCONSUMPTION_COMB_MPG  \\\n",
       "count          1067.000000           1067.000000               1067.000000   \n",
       "mean              9.474602             11.580881                 26.441425   \n",
       "std               2.794510              3.485595                  7.468702   \n",
       "min               4.900000              4.700000                 11.000000   \n",
       "25%               7.500000              9.000000                 21.000000   \n",
       "50%               8.800000             10.900000                 26.000000   \n",
       "75%              10.850000             13.350000                 31.000000   \n",
       "max              20.500000             25.800000                 60.000000   \n",
       "\n",
       "       CO2EMISSIONS  \n",
       "count   1067.000000  \n",
       "mean     256.228679  \n",
       "std       63.372304  \n",
       "min      108.000000  \n",
       "25%      207.000000  \n",
       "50%      251.000000  \n",
       "75%      294.000000  \n",
       "max      488.000000  "
      ]
     },
     "execution_count": 6,
     "metadata": {},
     "output_type": "execute_result"
    }
   ],
   "source": [
    "data.describe()#Statical view"
   ]
  },
  {
   "cell_type": "code",
   "execution_count": 13,
   "metadata": {},
   "outputs": [
    {
     "data": {
      "text/plain": [
       "'VEHICLECLASS'"
      ]
     },
     "execution_count": 13,
     "metadata": {},
     "output_type": "execute_result"
    }
   ],
   "source": [
    "data.columns[0]"
   ]
  },
  {
   "cell_type": "code",
   "execution_count": 11,
   "metadata": {},
   "outputs": [],
   "source": [
    "data.drop(columns=[\"MODELYEAR\",\"MAKE\",\"MODEL\", \"TRANSMISSION\"], inplace=True)\n"
   ]
  },
  {
   "cell_type": "code",
   "execution_count": 15,
   "metadata": {},
   "outputs": [
    {
     "data": {
      "text/plain": [
       "FUELTYPE\n",
       "X           514\n",
       "Z           434\n",
       "E            92\n",
       "D            27\n",
       "dtype: int64"
      ]
     },
     "execution_count": 15,
     "metadata": {},
     "output_type": "execute_result"
    }
   ],
   "source": [
    "data[['FUELTYPE']].value_counts()#prolem arrise when we access throug indexing ,thats why we will drop this col"
   ]
  },
  {
   "cell_type": "code",
   "execution_count": 14,
   "metadata": {},
   "outputs": [
    {
     "data": {
      "text/html": [
       "<div>\n",
       "<style scoped>\n",
       "    .dataframe tbody tr th:only-of-type {\n",
       "        vertical-align: middle;\n",
       "    }\n",
       "\n",
       "    .dataframe tbody tr th {\n",
       "        vertical-align: top;\n",
       "    }\n",
       "\n",
       "    .dataframe thead th {\n",
       "        text-align: right;\n",
       "    }\n",
       "</style>\n",
       "<table border=\"1\" class=\"dataframe\">\n",
       "  <thead>\n",
       "    <tr style=\"text-align: right;\">\n",
       "      <th></th>\n",
       "      <th>VEHICLECLASS</th>\n",
       "      <th>ENGINESIZE</th>\n",
       "      <th>CYLINDERS</th>\n",
       "      <th>FUELTYPE</th>\n",
       "      <th>FUELCONSUMPTION_CITY</th>\n",
       "      <th>FUELCONSUMPTION_HWY</th>\n",
       "      <th>FUELCONSUMPTION_COMB</th>\n",
       "      <th>FUELCONSUMPTION_COMB_MPG</th>\n",
       "      <th>CO2EMISSIONS</th>\n",
       "    </tr>\n",
       "  </thead>\n",
       "  <tbody>\n",
       "    <tr>\n",
       "      <th>0</th>\n",
       "      <td>COMPACT</td>\n",
       "      <td>2.0</td>\n",
       "      <td>4</td>\n",
       "      <td>Z</td>\n",
       "      <td>9.9</td>\n",
       "      <td>6.7</td>\n",
       "      <td>8.5</td>\n",
       "      <td>33</td>\n",
       "      <td>196</td>\n",
       "    </tr>\n",
       "    <tr>\n",
       "      <th>1</th>\n",
       "      <td>COMPACT</td>\n",
       "      <td>2.4</td>\n",
       "      <td>4</td>\n",
       "      <td>Z</td>\n",
       "      <td>11.2</td>\n",
       "      <td>7.7</td>\n",
       "      <td>9.6</td>\n",
       "      <td>29</td>\n",
       "      <td>221</td>\n",
       "    </tr>\n",
       "    <tr>\n",
       "      <th>2</th>\n",
       "      <td>COMPACT</td>\n",
       "      <td>1.5</td>\n",
       "      <td>4</td>\n",
       "      <td>Z</td>\n",
       "      <td>6.0</td>\n",
       "      <td>5.8</td>\n",
       "      <td>5.9</td>\n",
       "      <td>48</td>\n",
       "      <td>136</td>\n",
       "    </tr>\n",
       "    <tr>\n",
       "      <th>3</th>\n",
       "      <td>SUV - SMALL</td>\n",
       "      <td>3.5</td>\n",
       "      <td>6</td>\n",
       "      <td>Z</td>\n",
       "      <td>12.7</td>\n",
       "      <td>9.1</td>\n",
       "      <td>11.1</td>\n",
       "      <td>25</td>\n",
       "      <td>255</td>\n",
       "    </tr>\n",
       "    <tr>\n",
       "      <th>4</th>\n",
       "      <td>SUV - SMALL</td>\n",
       "      <td>3.5</td>\n",
       "      <td>6</td>\n",
       "      <td>Z</td>\n",
       "      <td>12.1</td>\n",
       "      <td>8.7</td>\n",
       "      <td>10.6</td>\n",
       "      <td>27</td>\n",
       "      <td>244</td>\n",
       "    </tr>\n",
       "  </tbody>\n",
       "</table>\n",
       "</div>"
      ],
      "text/plain": [
       "  VEHICLECLASS  ENGINESIZE  CYLINDERS FUELTYPE  FUELCONSUMPTION_CITY  \\\n",
       "0      COMPACT         2.0          4        Z                   9.9   \n",
       "1      COMPACT         2.4          4        Z                  11.2   \n",
       "2      COMPACT         1.5          4        Z                   6.0   \n",
       "3  SUV - SMALL         3.5          6        Z                  12.7   \n",
       "4  SUV - SMALL         3.5          6        Z                  12.1   \n",
       "\n",
       "   FUELCONSUMPTION_HWY  FUELCONSUMPTION_COMB  FUELCONSUMPTION_COMB_MPG  \\\n",
       "0                  6.7                   8.5                        33   \n",
       "1                  7.7                   9.6                        29   \n",
       "2                  5.8                   5.9                        48   \n",
       "3                  9.1                  11.1                        25   \n",
       "4                  8.7                  10.6                        27   \n",
       "\n",
       "   CO2EMISSIONS  \n",
       "0           196  \n",
       "1           221  \n",
       "2           136  \n",
       "3           255  \n",
       "4           244  "
      ]
     },
     "execution_count": 14,
     "metadata": {},
     "output_type": "execute_result"
    }
   ],
   "source": [
    "data.head()"
   ]
  },
  {
   "cell_type": "code",
   "execution_count": 16,
   "metadata": {},
   "outputs": [
    {
     "data": {
      "text/plain": [
       "VEHICLECLASS            \n",
       "MID-SIZE                    178\n",
       "COMPACT                     172\n",
       "SUV - SMALL                 154\n",
       "SUV - STANDARD              110\n",
       "FULL-SIZE                    86\n",
       "TWO-SEATER                   71\n",
       "SUBCOMPACT                   65\n",
       "PICKUP TRUCK - STANDARD      62\n",
       "MINICOMPACT                  47\n",
       "STATION WAGON - SMALL        36\n",
       "VAN - PASSENGER              25\n",
       "VAN - CARGO                  22\n",
       "MINIVAN                      14\n",
       "PICKUP TRUCK - SMALL         12\n",
       "SPECIAL PURPOSE VEHICLE       7\n",
       "STATION WAGON - MID-SIZE      6\n",
       "dtype: int64"
      ]
     },
     "execution_count": 16,
     "metadata": {},
     "output_type": "execute_result"
    }
   ],
   "source": [
    "data[['VEHICLECLASS']].value_counts()#Same as avobe"
   ]
  },
  {
   "cell_type": "code",
   "execution_count": 17,
   "metadata": {},
   "outputs": [
    {
     "data": {
      "text/html": [
       "<div>\n",
       "<style scoped>\n",
       "    .dataframe tbody tr th:only-of-type {\n",
       "        vertical-align: middle;\n",
       "    }\n",
       "\n",
       "    .dataframe tbody tr th {\n",
       "        vertical-align: top;\n",
       "    }\n",
       "\n",
       "    .dataframe thead th {\n",
       "        text-align: right;\n",
       "    }\n",
       "</style>\n",
       "<table border=\"1\" class=\"dataframe\">\n",
       "  <thead>\n",
       "    <tr style=\"text-align: right;\">\n",
       "      <th></th>\n",
       "      <th>ENGINESIZE</th>\n",
       "      <th>CYLINDERS</th>\n",
       "      <th>FUELCONSUMPTION_CITY</th>\n",
       "      <th>FUELCONSUMPTION_HWY</th>\n",
       "      <th>FUELCONSUMPTION_COMB</th>\n",
       "      <th>FUELCONSUMPTION_COMB_MPG</th>\n",
       "      <th>CO2EMISSIONS</th>\n",
       "    </tr>\n",
       "  </thead>\n",
       "  <tbody>\n",
       "    <tr>\n",
       "      <th>count</th>\n",
       "      <td>1067.000000</td>\n",
       "      <td>1067.000000</td>\n",
       "      <td>1067.000000</td>\n",
       "      <td>1067.000000</td>\n",
       "      <td>1067.000000</td>\n",
       "      <td>1067.000000</td>\n",
       "      <td>1067.000000</td>\n",
       "    </tr>\n",
       "    <tr>\n",
       "      <th>mean</th>\n",
       "      <td>3.346298</td>\n",
       "      <td>5.794752</td>\n",
       "      <td>13.296532</td>\n",
       "      <td>9.474602</td>\n",
       "      <td>11.580881</td>\n",
       "      <td>26.441425</td>\n",
       "      <td>256.228679</td>\n",
       "    </tr>\n",
       "    <tr>\n",
       "      <th>std</th>\n",
       "      <td>1.415895</td>\n",
       "      <td>1.797447</td>\n",
       "      <td>4.101253</td>\n",
       "      <td>2.794510</td>\n",
       "      <td>3.485595</td>\n",
       "      <td>7.468702</td>\n",
       "      <td>63.372304</td>\n",
       "    </tr>\n",
       "    <tr>\n",
       "      <th>min</th>\n",
       "      <td>1.000000</td>\n",
       "      <td>3.000000</td>\n",
       "      <td>4.600000</td>\n",
       "      <td>4.900000</td>\n",
       "      <td>4.700000</td>\n",
       "      <td>11.000000</td>\n",
       "      <td>108.000000</td>\n",
       "    </tr>\n",
       "    <tr>\n",
       "      <th>25%</th>\n",
       "      <td>2.000000</td>\n",
       "      <td>4.000000</td>\n",
       "      <td>10.250000</td>\n",
       "      <td>7.500000</td>\n",
       "      <td>9.000000</td>\n",
       "      <td>21.000000</td>\n",
       "      <td>207.000000</td>\n",
       "    </tr>\n",
       "    <tr>\n",
       "      <th>50%</th>\n",
       "      <td>3.400000</td>\n",
       "      <td>6.000000</td>\n",
       "      <td>12.600000</td>\n",
       "      <td>8.800000</td>\n",
       "      <td>10.900000</td>\n",
       "      <td>26.000000</td>\n",
       "      <td>251.000000</td>\n",
       "    </tr>\n",
       "    <tr>\n",
       "      <th>75%</th>\n",
       "      <td>4.300000</td>\n",
       "      <td>8.000000</td>\n",
       "      <td>15.550000</td>\n",
       "      <td>10.850000</td>\n",
       "      <td>13.350000</td>\n",
       "      <td>31.000000</td>\n",
       "      <td>294.000000</td>\n",
       "    </tr>\n",
       "    <tr>\n",
       "      <th>max</th>\n",
       "      <td>8.400000</td>\n",
       "      <td>12.000000</td>\n",
       "      <td>30.200000</td>\n",
       "      <td>20.500000</td>\n",
       "      <td>25.800000</td>\n",
       "      <td>60.000000</td>\n",
       "      <td>488.000000</td>\n",
       "    </tr>\n",
       "  </tbody>\n",
       "</table>\n",
       "</div>"
      ],
      "text/plain": [
       "        ENGINESIZE    CYLINDERS  FUELCONSUMPTION_CITY  FUELCONSUMPTION_HWY  \\\n",
       "count  1067.000000  1067.000000           1067.000000          1067.000000   \n",
       "mean      3.346298     5.794752             13.296532             9.474602   \n",
       "std       1.415895     1.797447              4.101253             2.794510   \n",
       "min       1.000000     3.000000              4.600000             4.900000   \n",
       "25%       2.000000     4.000000             10.250000             7.500000   \n",
       "50%       3.400000     6.000000             12.600000             8.800000   \n",
       "75%       4.300000     8.000000             15.550000            10.850000   \n",
       "max       8.400000    12.000000             30.200000            20.500000   \n",
       "\n",
       "       FUELCONSUMPTION_COMB  FUELCONSUMPTION_COMB_MPG  CO2EMISSIONS  \n",
       "count           1067.000000               1067.000000   1067.000000  \n",
       "mean              11.580881                 26.441425    256.228679  \n",
       "std                3.485595                  7.468702     63.372304  \n",
       "min                4.700000                 11.000000    108.000000  \n",
       "25%                9.000000                 21.000000    207.000000  \n",
       "50%               10.900000                 26.000000    251.000000  \n",
       "75%               13.350000                 31.000000    294.000000  \n",
       "max               25.800000                 60.000000    488.000000  "
      ]
     },
     "execution_count": 17,
     "metadata": {},
     "output_type": "execute_result"
    }
   ],
   "source": [
    "data.drop(columns=['VEHICLECLASS', 'FUELTYPE'], inplace=True)\n",
    "data.head()\n",
    "data.describe()"
   ]
  },
  {
   "cell_type": "code",
   "execution_count": 18,
   "metadata": {},
   "outputs": [
    {
     "data": {
      "text/plain": [
       "array([[<AxesSubplot:title={'center':'ENGINESIZE'}>,\n",
       "        <AxesSubplot:title={'center':'CYLINDERS'}>,\n",
       "        <AxesSubplot:title={'center':'FUELCONSUMPTION_CITY'}>],\n",
       "       [<AxesSubplot:title={'center':'FUELCONSUMPTION_HWY'}>,\n",
       "        <AxesSubplot:title={'center':'FUELCONSUMPTION_COMB'}>,\n",
       "        <AxesSubplot:title={'center':'FUELCONSUMPTION_COMB_MPG'}>],\n",
       "       [<AxesSubplot:title={'center':'CO2EMISSIONS'}>, <AxesSubplot:>,\n",
       "        <AxesSubplot:>]], dtype=object)"
      ]
     },
     "execution_count": 18,
     "metadata": {},
     "output_type": "execute_result"
    },
    {
     "data": {
      "image/png": "[encoded data removed]",
      "text/plain": [
       "<Figure size 432x288 with 9 Axes>"
      ]
     },
     "metadata": {
      "needs_background": "light"
     },
     "output_type": "display_data"
    }
   ],
   "source": [
    "data.hist()#Observation of all cols\n"
   ]
  },
  {
   "cell_type": "code",
   "execution_count": 19,
   "metadata": {},
   "outputs": [
    {
     "data": {
      "text/plain": [
       "array([[<AxesSubplot:title={'center':'FUELCONSUMPTION_COMB'}>]],\n",
       "      dtype=object)"
      ]
     },
     "execution_count": 19,
     "metadata": {},
     "output_type": "execute_result"
    },
    {
     "data": {
      "image/png": "[encoded data removed]",
      "text/plain": [
       "<Figure size 432x288 with 1 Axes>"
      ]
     },
     "metadata": {
      "needs_background": "light"
     },
     "output_type": "display_data"
    },
    {
     "data": {
      "image/png": "[encoded data removed]",
      "text/plain": [
       "<Figure size 432x288 with 1 Axes>"
      ]
     },
     "metadata": {
      "needs_background": "light"
     },
     "output_type": "display_data"
    },
    {
     "data": {
      "image/png": "[encoded data removed]",
      "text/plain": [
       "<Figure size 432x288 with 1 Axes>"
      ]
     },
     "metadata": {
      "needs_background": "light"
     },
     "output_type": "display_data"
    }
   ],
   "source": [
    "data[['ENGINESIZE']].hist()\n",
    "data[['CYLINDERS']].hist()\n",
    "data[['FUELCONSUMPTION_COMB']].hist()"
   ]
  },
  {
   "cell_type": "code",
   "execution_count": 20,
   "metadata": {},
   "outputs": [
    {
     "data": {
      "text/html": [
       "<div>\n",
       "<style scoped>\n",
       "    .dataframe tbody tr th:only-of-type {\n",
       "        vertical-align: middle;\n",
       "    }\n",
       "\n",
       "    .dataframe tbody tr th {\n",
       "        vertical-align: top;\n",
       "    }\n",
       "\n",
       "    .dataframe thead th {\n",
       "        text-align: right;\n",
       "    }\n",
       "</style>\n",
       "<table border=\"1\" class=\"dataframe\">\n",
       "  <thead>\n",
       "    <tr style=\"text-align: right;\">\n",
       "      <th></th>\n",
       "      <th>ENGINESIZE</th>\n",
       "      <th>CYLINDERS</th>\n",
       "      <th>FUELCONSUMPTION_CITY</th>\n",
       "      <th>FUELCONSUMPTION_HWY</th>\n",
       "      <th>FUELCONSUMPTION_COMB</th>\n",
       "      <th>FUELCONSUMPTION_COMB_MPG</th>\n",
       "      <th>CO2EMISSIONS</th>\n",
       "    </tr>\n",
       "  </thead>\n",
       "  <tbody>\n",
       "    <tr>\n",
       "      <th>ENGINESIZE</th>\n",
       "      <td>1.000000</td>\n",
       "      <td>0.934011</td>\n",
       "      <td>0.832225</td>\n",
       "      <td>0.778746</td>\n",
       "      <td>0.819482</td>\n",
       "      <td>-0.808554</td>\n",
       "      <td>0.874154</td>\n",
       "    </tr>\n",
       "    <tr>\n",
       "      <th>CYLINDERS</th>\n",
       "      <td>0.934011</td>\n",
       "      <td>1.000000</td>\n",
       "      <td>0.796473</td>\n",
       "      <td>0.724594</td>\n",
       "      <td>0.776788</td>\n",
       "      <td>-0.770430</td>\n",
       "      <td>0.849685</td>\n",
       "    </tr>\n",
       "    <tr>\n",
       "      <th>FUELCONSUMPTION_CITY</th>\n",
       "      <td>0.832225</td>\n",
       "      <td>0.796473</td>\n",
       "      <td>1.000000</td>\n",
       "      <td>0.965718</td>\n",
       "      <td>0.995542</td>\n",
       "      <td>-0.935613</td>\n",
       "      <td>0.898039</td>\n",
       "    </tr>\n",
       "    <tr>\n",
       "      <th>FUELCONSUMPTION_HWY</th>\n",
       "      <td>0.778746</td>\n",
       "      <td>0.724594</td>\n",
       "      <td>0.965718</td>\n",
       "      <td>1.000000</td>\n",
       "      <td>0.985804</td>\n",
       "      <td>-0.893809</td>\n",
       "      <td>0.861748</td>\n",
       "    </tr>\n",
       "    <tr>\n",
       "      <th>FUELCONSUMPTION_COMB</th>\n",
       "      <td>0.819482</td>\n",
       "      <td>0.776788</td>\n",
       "      <td>0.995542</td>\n",
       "      <td>0.985804</td>\n",
       "      <td>1.000000</td>\n",
       "      <td>-0.927965</td>\n",
       "      <td>0.892129</td>\n",
       "    </tr>\n",
       "    <tr>\n",
       "      <th>FUELCONSUMPTION_COMB_MPG</th>\n",
       "      <td>-0.808554</td>\n",
       "      <td>-0.770430</td>\n",
       "      <td>-0.935613</td>\n",
       "      <td>-0.893809</td>\n",
       "      <td>-0.927965</td>\n",
       "      <td>1.000000</td>\n",
       "      <td>-0.906394</td>\n",
       "    </tr>\n",
       "    <tr>\n",
       "      <th>CO2EMISSIONS</th>\n",
       "      <td>0.874154</td>\n",
       "      <td>0.849685</td>\n",
       "      <td>0.898039</td>\n",
       "      <td>0.861748</td>\n",
       "      <td>0.892129</td>\n",
       "      <td>-0.906394</td>\n",
       "      <td>1.000000</td>\n",
       "    </tr>\n",
       "  </tbody>\n",
       "</table>\n",
       "</div>"
      ],
      "text/plain": [
       "                          ENGINESIZE  CYLINDERS  FUELCONSUMPTION_CITY  \\\n",
       "ENGINESIZE                  1.000000   0.934011              0.832225   \n",
       "CYLINDERS                   0.934011   1.000000              0.796473   \n",
       "FUELCONSUMPTION_CITY        0.832225   0.796473              1.000000   \n",
       "FUELCONSUMPTION_HWY         0.778746   0.724594              0.965718   \n",
       "FUELCONSUMPTION_COMB        0.819482   0.776788              0.995542   \n",
       "FUELCONSUMPTION_COMB_MPG   -0.808554  -0.770430             -0.935613   \n",
       "CO2EMISSIONS                0.874154   0.849685              0.898039   \n",
       "\n",
       "                          FUELCONSUMPTION_HWY  FUELCONSUMPTION_COMB  \\\n",
       "ENGINESIZE                           0.778746              0.819482   \n",
       "CYLINDERS                            0.724594              0.776788   \n",
       "FUELCONSUMPTION_CITY                 0.965718              0.995542   \n",
       "FUELCONSUMPTION_HWY                  1.000000              0.985804   \n",
       "FUELCONSUMPTION_COMB                 0.985804              1.000000   \n",
       "FUELCONSUMPTION_COMB_MPG            -0.893809             -0.927965   \n",
       "CO2EMISSIONS                         0.861748              0.892129   \n",
       "\n",
       "                          FUELCONSUMPTION_COMB_MPG  CO2EMISSIONS  \n",
       "ENGINESIZE                               -0.808554      0.874154  \n",
       "CYLINDERS                                -0.770430      0.849685  \n",
       "FUELCONSUMPTION_CITY                     -0.935613      0.898039  \n",
       "FUELCONSUMPTION_HWY                      -0.893809      0.861748  \n",
       "FUELCONSUMPTION_COMB                     -0.927965      0.892129  \n",
       "FUELCONSUMPTION_COMB_MPG                  1.000000     -0.906394  \n",
       "CO2EMISSIONS                             -0.906394      1.000000  "
      ]
     },
     "execution_count": 20,
     "metadata": {},
     "output_type": "execute_result"
    }
   ],
   "source": [
    "# Feature Selection\n",
    "data.corr()"
   ]
  },
  {
   "cell_type": "code",
   "execution_count": 21,
   "metadata": {},
   "outputs": [
    {
     "data": {
      "text/plain": [
       "<AxesSubplot:>"
      ]
     },
     "execution_count": 21,
     "metadata": {},
     "output_type": "execute_result"
    },
    {
     "data": {
      "image/png": "[encoded data removed]",
      "text/plain": [
       "<Figure size 432x288 with 2 Axes>"
      ]
     },
     "metadata": {
      "needs_background": "light"
     },
     "output_type": "display_data"
    }
   ],
   "source": [
    "#sns.heatmap(data.corr()) #Negatively Correlate with FUELCONSUMPTION_COMB_MPG\n",
    "sns.heatmap(data.corr(),annot=True) # use annot for more clear view ,and show points"
   ]
  },
  {
   "cell_type": "markdown",
   "metadata": {},
   "source": [
    "## There are 2 concept\n",
    "1.Single Linear Regression(Where we use 1 col to make prediction)\n",
    "2.Multiple Linear Regression(Where we use 2 or more col to make prediction)"
   ]
  },
  {
   "cell_type": "code",
   "execution_count": 22,
   "metadata": {},
   "outputs": [],
   "source": [
    "data.drop(columns= ['FUELCONSUMPTION_HWY' , 'FUELCONSUMPTION_COMB' , 'FUELCONSUMPTION_COMB_MPG'] , inplace= True)#(FUELCONSUMPTION_COMB_MPG is neg corr)\n",
    "#And (FUELCONSUMPTION_CITY,FUELCONSUMPTION_HWY,FUELCONSUMPTION_COMB)within this 3col FUELCONSUMPTION_CITY is more corr"
   ]
  },
  {
   "cell_type": "code",
   "execution_count": 26,
   "metadata": {},
   "outputs": [
    {
     "data": {
      "text/plain": [
       "<AxesSubplot:>"
      ]
     },
     "execution_count": 26,
     "metadata": {},
     "output_type": "execute_result"
    },
    {
     "data": {
      "image/png": "[encoded data removed]",
      "text/plain": [
       "<Figure size 432x288 with 2 Axes>"
      ]
     },
     "metadata": {
      "needs_background": "light"
     },
     "output_type": "display_data"
    }
   ],
   "source": [
    "#prb\n",
    "\n",
    "sns.heatmap(data.corr(),annot=True)#  prb neg corr FUELCONSUMPTION_CITY & CYLINDERS"
   ]
  },
  {
   "cell_type": "markdown",
   "metadata": {},
   "source": [
    "# Now we need to install Scikit-learn to make all ML & DS Task\n",
    "## after installing we will import this features for complt out task,\n",
    "##then we will drop CO2EMISSION and other cols will assign to feature var"
   ]
  },
  {
   "cell_type": "code",
   "execution_count": 23,
   "metadata": {},
   "outputs": [
    {
     "data": {
      "text/html": [
       "<div>\n",
       "<style scoped>\n",
       "    .dataframe tbody tr th:only-of-type {\n",
       "        vertical-align: middle;\n",
       "    }\n",
       "\n",
       "    .dataframe tbody tr th {\n",
       "        vertical-align: top;\n",
       "    }\n",
       "\n",
       "    .dataframe thead th {\n",
       "        text-align: right;\n",
       "    }\n",
       "</style>\n",
       "<table border=\"1\" class=\"dataframe\">\n",
       "  <thead>\n",
       "    <tr style=\"text-align: right;\">\n",
       "      <th></th>\n",
       "      <th>ENGINESIZE</th>\n",
       "      <th>CYLINDERS</th>\n",
       "      <th>FUELCONSUMPTION_CITY</th>\n",
       "      <th>CO2EMISSIONS</th>\n",
       "    </tr>\n",
       "  </thead>\n",
       "  <tbody>\n",
       "    <tr>\n",
       "      <th>0</th>\n",
       "      <td>2.0</td>\n",
       "      <td>4</td>\n",
       "      <td>9.9</td>\n",
       "      <td>196</td>\n",
       "    </tr>\n",
       "    <tr>\n",
       "      <th>1</th>\n",
       "      <td>2.4</td>\n",
       "      <td>4</td>\n",
       "      <td>11.2</td>\n",
       "      <td>221</td>\n",
       "    </tr>\n",
       "    <tr>\n",
       "      <th>2</th>\n",
       "      <td>1.5</td>\n",
       "      <td>4</td>\n",
       "      <td>6.0</td>\n",
       "      <td>136</td>\n",
       "    </tr>\n",
       "    <tr>\n",
       "      <th>3</th>\n",
       "      <td>3.5</td>\n",
       "      <td>6</td>\n",
       "      <td>12.7</td>\n",
       "      <td>255</td>\n",
       "    </tr>\n",
       "    <tr>\n",
       "      <th>4</th>\n",
       "      <td>3.5</td>\n",
       "      <td>6</td>\n",
       "      <td>12.1</td>\n",
       "      <td>244</td>\n",
       "    </tr>\n",
       "  </tbody>\n",
       "</table>\n",
       "</div>"
      ],
      "text/plain": [
       "   ENGINESIZE  CYLINDERS  FUELCONSUMPTION_CITY  CO2EMISSIONS\n",
       "0         2.0          4                   9.9           196\n",
       "1         2.4          4                  11.2           221\n",
       "2         1.5          4                   6.0           136\n",
       "3         3.5          6                  12.7           255\n",
       "4         3.5          6                  12.1           244"
      ]
     },
     "execution_count": 23,
     "metadata": {},
     "output_type": "execute_result"
    }
   ],
   "source": [
    "data.head()"
   ]
  },
  {
   "cell_type": "code",
   "execution_count": 24,
   "metadata": {},
   "outputs": [
    {
     "data": {
      "text/html": [
       "<div>\n",
       "<style scoped>\n",
       "    .dataframe tbody tr th:only-of-type {\n",
       "        vertical-align: middle;\n",
       "    }\n",
       "\n",
       "    .dataframe tbody tr th {\n",
       "        vertical-align: top;\n",
       "    }\n",
       "\n",
       "    .dataframe thead th {\n",
       "        text-align: right;\n",
       "    }\n",
       "</style>\n",
       "<table border=\"1\" class=\"dataframe\">\n",
       "  <thead>\n",
       "    <tr style=\"text-align: right;\">\n",
       "      <th></th>\n",
       "      <th>ENGINESIZE</th>\n",
       "      <th>CYLINDERS</th>\n",
       "      <th>FUELCONSUMPTION_CITY</th>\n",
       "    </tr>\n",
       "  </thead>\n",
       "  <tbody>\n",
       "    <tr>\n",
       "      <th>0</th>\n",
       "      <td>2.0</td>\n",
       "      <td>4</td>\n",
       "      <td>9.9</td>\n",
       "    </tr>\n",
       "    <tr>\n",
       "      <th>1</th>\n",
       "      <td>2.4</td>\n",
       "      <td>4</td>\n",
       "      <td>11.2</td>\n",
       "    </tr>\n",
       "    <tr>\n",
       "      <th>2</th>\n",
       "      <td>1.5</td>\n",
       "      <td>4</td>\n",
       "      <td>6.0</td>\n",
       "    </tr>\n",
       "    <tr>\n",
       "      <th>3</th>\n",
       "      <td>3.5</td>\n",
       "      <td>6</td>\n",
       "      <td>12.7</td>\n",
       "    </tr>\n",
       "    <tr>\n",
       "      <th>4</th>\n",
       "      <td>3.5</td>\n",
       "      <td>6</td>\n",
       "      <td>12.1</td>\n",
       "    </tr>\n",
       "    <tr>\n",
       "      <th>...</th>\n",
       "      <td>...</td>\n",
       "      <td>...</td>\n",
       "      <td>...</td>\n",
       "    </tr>\n",
       "    <tr>\n",
       "      <th>1062</th>\n",
       "      <td>3.0</td>\n",
       "      <td>6</td>\n",
       "      <td>13.4</td>\n",
       "    </tr>\n",
       "    <tr>\n",
       "      <th>1063</th>\n",
       "      <td>3.2</td>\n",
       "      <td>6</td>\n",
       "      <td>13.2</td>\n",
       "    </tr>\n",
       "    <tr>\n",
       "      <th>1064</th>\n",
       "      <td>3.0</td>\n",
       "      <td>6</td>\n",
       "      <td>13.4</td>\n",
       "    </tr>\n",
       "    <tr>\n",
       "      <th>1065</th>\n",
       "      <td>3.2</td>\n",
       "      <td>6</td>\n",
       "      <td>12.9</td>\n",
       "    </tr>\n",
       "    <tr>\n",
       "      <th>1066</th>\n",
       "      <td>3.2</td>\n",
       "      <td>6</td>\n",
       "      <td>14.9</td>\n",
       "    </tr>\n",
       "  </tbody>\n",
       "</table>\n",
       "<p>1067 rows × 3 columns</p>\n",
       "</div>"
      ],
      "text/plain": [
       "      ENGINESIZE  CYLINDERS  FUELCONSUMPTION_CITY\n",
       "0            2.0          4                   9.9\n",
       "1            2.4          4                  11.2\n",
       "2            1.5          4                   6.0\n",
       "3            3.5          6                  12.7\n",
       "4            3.5          6                  12.1\n",
       "...          ...        ...                   ...\n",
       "1062         3.0          6                  13.4\n",
       "1063         3.2          6                  13.2\n",
       "1064         3.0          6                  13.4\n",
       "1065         3.2          6                  12.9\n",
       "1066         3.2          6                  14.9\n",
       "\n",
       "[1067 rows x 3 columns]"
      ]
     },
     "execution_count": 24,
     "metadata": {},
     "output_type": "execute_result"
    }
   ],
   "source": [
    "feature = data.drop(columns=['CO2EMISSIONS'] )\n",
    "feature"
   ]
  },
  {
   "cell_type": "code",
   "execution_count": 25,
   "metadata": {},
   "outputs": [
    {
     "data": {
      "text/html": [
       "<div>\n",
       "<style scoped>\n",
       "    .dataframe tbody tr th:only-of-type {\n",
       "        vertical-align: middle;\n",
       "    }\n",
       "\n",
       "    .dataframe tbody tr th {\n",
       "        vertical-align: top;\n",
       "    }\n",
       "\n",
       "    .dataframe thead th {\n",
       "        text-align: right;\n",
       "    }\n",
       "</style>\n",
       "<table border=\"1\" class=\"dataframe\">\n",
       "  <thead>\n",
       "    <tr style=\"text-align: right;\">\n",
       "      <th></th>\n",
       "      <th>CO2EMISSIONS</th>\n",
       "    </tr>\n",
       "  </thead>\n",
       "  <tbody>\n",
       "    <tr>\n",
       "      <th>0</th>\n",
       "      <td>196</td>\n",
       "    </tr>\n",
       "    <tr>\n",
       "      <th>1</th>\n",
       "      <td>221</td>\n",
       "    </tr>\n",
       "    <tr>\n",
       "      <th>2</th>\n",
       "      <td>136</td>\n",
       "    </tr>\n",
       "    <tr>\n",
       "      <th>3</th>\n",
       "      <td>255</td>\n",
       "    </tr>\n",
       "    <tr>\n",
       "      <th>4</th>\n",
       "      <td>244</td>\n",
       "    </tr>\n",
       "    <tr>\n",
       "      <th>...</th>\n",
       "      <td>...</td>\n",
       "    </tr>\n",
       "    <tr>\n",
       "      <th>1062</th>\n",
       "      <td>271</td>\n",
       "    </tr>\n",
       "    <tr>\n",
       "      <th>1063</th>\n",
       "      <td>264</td>\n",
       "    </tr>\n",
       "    <tr>\n",
       "      <th>1064</th>\n",
       "      <td>271</td>\n",
       "    </tr>\n",
       "    <tr>\n",
       "      <th>1065</th>\n",
       "      <td>260</td>\n",
       "    </tr>\n",
       "    <tr>\n",
       "      <th>1066</th>\n",
       "      <td>294</td>\n",
       "    </tr>\n",
       "  </tbody>\n",
       "</table>\n",
       "<p>1067 rows × 1 columns</p>\n",
       "</div>"
      ],
      "text/plain": [
       "      CO2EMISSIONS\n",
       "0              196\n",
       "1              221\n",
       "2              136\n",
       "3              255\n",
       "4              244\n",
       "...            ...\n",
       "1062           271\n",
       "1063           264\n",
       "1064           271\n",
       "1065           260\n",
       "1066           294\n",
       "\n",
       "[1067 rows x 1 columns]"
      ]
     },
     "execution_count": 25,
     "metadata": {},
     "output_type": "execute_result"
    }
   ],
   "source": [
    "target = data[['CO2EMISSIONS']]\n",
    "target"
   ]
  },
  {
   "cell_type": "code",
   "execution_count": 27,
   "metadata": {},
   "outputs": [
    {
     "name": "stdout",
     "output_type": "stream",
     "text": [
      "Collecting scikit-learn\n",
      "  Using cached scikit_learn-1.1.1-cp310-cp310-win_amd64.whl (7.3 MB)\n",
      "Requirement already satisfied: scipy>=1.3.2 in c:\\python3.10.5\\lib\\site-packages (from scikit-learn) (1.8.1)\n",
      "Collecting threadpoolctl>=2.0.0\n",
      "  Using cached threadpoolctl-3.1.0-py3-none-any.whl (14 kB)\n",
      "Collecting joblib>=1.0.0\n",
      "  Using cached joblib-1.1.0-py2.py3-none-any.whl (306 kB)\n",
      "Requirement already satisfied: numpy>=1.17.3 in c:\\python3.10.5\\lib\\site-packages (from scikit-learn) (1.22.4)\n",
      "Installing collected packages: threadpoolctl, joblib, scikit-learn\n",
      "Successfully installed joblib-1.1.0 scikit-learn-1.1.1 threadpoolctl-3.1.0\n"
     ]
    },
    {
     "name": "stderr",
     "output_type": "stream",
     "text": [
      "WARNING: You are using pip version 22.0.4; however, version 22.1.2 is available.\n",
      "You should consider upgrading via the 'C:\\python3.10.5\\python.exe -m pip install --upgrade pip' command.\n"
     ]
    }
   ],
   "source": [
    "! pip install scikit-learn"
   ]
  },
  {
   "cell_type": "code",
   "execution_count": 30,
   "metadata": {},
   "outputs": [
    {
     "data": {
      "text/html": [
       "<div>\n",
       "<style scoped>\n",
       "    .dataframe tbody tr th:only-of-type {\n",
       "        vertical-align: middle;\n",
       "    }\n",
       "\n",
       "    .dataframe tbody tr th {\n",
       "        vertical-align: top;\n",
       "    }\n",
       "\n",
       "    .dataframe thead th {\n",
       "        text-align: right;\n",
       "    }\n",
       "</style>\n",
       "<table border=\"1\" class=\"dataframe\">\n",
       "  <thead>\n",
       "    <tr style=\"text-align: right;\">\n",
       "      <th></th>\n",
       "      <th>CO2EMISSIONS</th>\n",
       "    </tr>\n",
       "  </thead>\n",
       "  <tbody>\n",
       "    <tr>\n",
       "      <th>759</th>\n",
       "      <td>363</td>\n",
       "    </tr>\n",
       "    <tr>\n",
       "      <th>671</th>\n",
       "      <td>297</td>\n",
       "    </tr>\n",
       "    <tr>\n",
       "      <th>408</th>\n",
       "      <td>162</td>\n",
       "    </tr>\n",
       "    <tr>\n",
       "      <th>734</th>\n",
       "      <td>179</td>\n",
       "    </tr>\n",
       "    <tr>\n",
       "      <th>574</th>\n",
       "      <td>253</td>\n",
       "    </tr>\n",
       "    <tr>\n",
       "      <th>...</th>\n",
       "      <td>...</td>\n",
       "    </tr>\n",
       "    <tr>\n",
       "      <th>847</th>\n",
       "      <td>200</td>\n",
       "    </tr>\n",
       "    <tr>\n",
       "      <th>715</th>\n",
       "      <td>175</td>\n",
       "    </tr>\n",
       "    <tr>\n",
       "      <th>905</th>\n",
       "      <td>292</td>\n",
       "    </tr>\n",
       "    <tr>\n",
       "      <th>235</th>\n",
       "      <td>244</td>\n",
       "    </tr>\n",
       "    <tr>\n",
       "      <th>1061</th>\n",
       "      <td>258</td>\n",
       "    </tr>\n",
       "  </tbody>\n",
       "</table>\n",
       "<p>800 rows × 1 columns</p>\n",
       "</div>"
      ],
      "text/plain": [
       "      CO2EMISSIONS\n",
       "759            363\n",
       "671            297\n",
       "408            162\n",
       "734            179\n",
       "574            253\n",
       "...            ...\n",
       "847            200\n",
       "715            175\n",
       "905            292\n",
       "235            244\n",
       "1061           258\n",
       "\n",
       "[800 rows x 1 columns]"
      ]
     },
     "execution_count": 30,
     "metadata": {},
     "output_type": "execute_result"
    }
   ],
   "source": [
    "#Spiliting Data\n",
    "from sklearn.model_selection import train_test_split #data devided to 2 category,then we can train & test between this 2data,for choose best model thats why model_selec\n",
    "# train_test_split this func return xtrain xtest,ytrain ytest\n",
    "#xtrain,xtest,ytrain,ytest = train_test_split(data , feature,test_size = 0.25 , random_state = 1)#provide All col\n",
    "xtrain,xtest,ytrain,ytest = train_test_split(feature , target , test_size = 0.25 , random_state = 1)\n",
    "#25 % data use for x&y test,75% data for x&y train.random_state 1 combination of use for x,y train & x,y test data will b fixed,not will be supple\n",
    "\n",
    "xtrain#800 val 3 cols\n",
    "xtest#267 values 3 cols\n",
    "ytest\n",
    "ytrain"
   ]
  },
  {
   "cell_type": "code",
   "execution_count": 31,
   "metadata": {},
   "outputs": [
    {
     "data": {
      "text/plain": [
       "((800, 3), (267, 3))"
      ]
     },
     "execution_count": 31,
     "metadata": {},
     "output_type": "execute_result"
    }
   ],
   "source": [
    "xtrain.shape,xtest.shape"
   ]
  },
  {
   "cell_type": "code",
   "execution_count": 32,
   "metadata": {},
   "outputs": [
    {
     "data": {
      "text/plain": [
       "((800, 1), (267, 1))"
      ]
     },
     "execution_count": 32,
     "metadata": {},
     "output_type": "execute_result"
    }
   ],
   "source": [
    "ytrain.shape,ytest.shape"
   ]
  },
  {
   "cell_type": "code",
   "execution_count": 33,
   "metadata": {},
   "outputs": [
    {
     "data": {
      "image/png": "[encoded data removed]",
      "text/plain": [
       "<Figure size 432x288 with 1 Axes>"
      ]
     },
     "metadata": {
      "needs_background": "light"
     },
     "output_type": "display_data"
    }
   ],
   "source": [
    "#prb\n",
    "\n",
    "#Choosing Model\n",
    "#data[['ENGINESIZE', 'CO2EMISSIONS']].plot(kind='scatter')#Another way,may b try next tym\n",
    "#data['ENGINESIZE'],data['CO2EMISSIONS'].plot(kind='scatter')  # prb ValErr :plot kind scatter can only be used for data frames\n",
    "#plt.plot(feature.ENGINESIZE,target.values)#Line plot\n",
    "plt.scatter(feature.ENGINESIZE,target.values)#Values will convert to numpy array\n",
    "plt.title('ENGINESIZE Vs CO2EMISSIONS')\n",
    "plt.xlabel('ENGINESIZE')\n",
    "plt.ylabel('CO2EMISSIONS')\n",
    "plt.show()"
   ]
  },
  {
   "cell_type": "code",
   "execution_count": 34,
   "metadata": {},
   "outputs": [
    {
     "data": {
      "text/html": [
       "<style>#sk-container-id-1 {color: black;background-color: white;}#sk-container-id-1 pre{padding: 0;}#sk-container-id-1 div.sk-toggleable {background-color: white;}#sk-container-id-1 label.sk-toggleable__label {cursor: pointer;display: block;width: 100%;margin-bottom: 0;padding: 0.3em;box-sizing: border-box;text-align: center;}#sk-container-id-1 label.sk-toggleable__label-arrow:before {content: \"▸\";float: left;margin-right: 0.25em;color: #696969;}#sk-container-id-1 label.sk-toggleable__label-arrow:hover:before {color: black;}#sk-container-id-1 div.sk-estimator:hover label.sk-toggleable__label-arrow:before {color: black;}#sk-container-id-1 div.sk-toggleable__content {max-height: 0;max-width: 0;overflow: hidden;text-align: left;background-color: #f0f8ff;}#sk-container-id-1 div.sk-toggleable__content pre {margin: 0.2em;color: black;border-radius: 0.25em;background-color: #f0f8ff;}#sk-container-id-1 input.sk-toggleable__control:checked~div.sk-toggleable__content {max-height: 200px;max-width: 100%;overflow: auto;}#sk-container-id-1 input.sk-toggleable__control:checked~label.sk-toggleable__label-arrow:before {content: \"▾\";}#sk-container-id-1 div.sk-estimator input.sk-toggleable__control:checked~label.sk-toggleable__label {background-color: #d4ebff;}#sk-container-id-1 div.sk-label input.sk-toggleable__control:checked~label.sk-toggleable__label {background-color: #d4ebff;}#sk-container-id-1 input.sk-hidden--visually {border: 0;clip: rect(1px 1px 1px 1px);clip: rect(1px, 1px, 1px, 1px);height: 1px;margin: -1px;overflow: hidden;padding: 0;position: absolute;width: 1px;}#sk-container-id-1 div.sk-estimator {font-family: monospace;background-color: #f0f8ff;border: 1px dotted black;border-radius: 0.25em;box-sizing: border-box;margin-bottom: 0.5em;}#sk-container-id-1 div.sk-estimator:hover {background-color: #d4ebff;}#sk-container-id-1 div.sk-parallel-item::after {content: \"\";width: 100%;border-bottom: 1px solid gray;flex-grow: 1;}#sk-container-id-1 div.sk-label:hover label.sk-toggleable__label {background-color: #d4ebff;}#sk-container-id-1 div.sk-serial::before {content: \"\";position: absolute;border-left: 1px solid gray;box-sizing: border-box;top: 0;bottom: 0;left: 50%;z-index: 0;}#sk-container-id-1 div.sk-serial {display: flex;flex-direction: column;align-items: center;background-color: white;padding-right: 0.2em;padding-left: 0.2em;position: relative;}#sk-container-id-1 div.sk-item {position: relative;z-index: 1;}#sk-container-id-1 div.sk-parallel {display: flex;align-items: stretch;justify-content: center;background-color: white;position: relative;}#sk-container-id-1 div.sk-item::before, #sk-container-id-1 div.sk-parallel-item::before {content: \"\";position: absolute;border-left: 1px solid gray;box-sizing: border-box;top: 0;bottom: 0;left: 50%;z-index: -1;}#sk-container-id-1 div.sk-parallel-item {display: flex;flex-direction: column;z-index: 1;position: relative;background-color: white;}#sk-container-id-1 div.sk-parallel-item:first-child::after {align-self: flex-end;width: 50%;}#sk-container-id-1 div.sk-parallel-item:last-child::after {align-self: flex-start;width: 50%;}#sk-container-id-1 div.sk-parallel-item:only-child::after {width: 0;}#sk-container-id-1 div.sk-dashed-wrapped {border: 1px dashed gray;margin: 0 0.4em 0.5em 0.4em;box-sizing: border-box;padding-bottom: 0.4em;background-color: white;}#sk-container-id-1 div.sk-label label {font-family: monospace;font-weight: bold;display: inline-block;line-height: 1.2em;}#sk-container-id-1 div.sk-label-container {text-align: center;}#sk-container-id-1 div.sk-container {/* jupyter's `normalize.less` sets `[hidden] { display: none; }` but bootstrap.min.css set `[hidden] { display: none !important; }` so we also need the `!important` here to be able to override the default hidden behavior on the sphinx rendered scikit-learn.org. See: https://github.com/scikit-learn/scikit-learn/issues/21755 */display: inline-block !important;position: relative;}#sk-container-id-1 div.sk-text-repr-fallback {display: none;}</style><div id=\"sk-container-id-1\" class=\"sk-top-container\"><div class=\"sk-text-repr-fallback\"><pre>LinearRegression()</pre><b>In a Jupyter environment, please rerun this cell to show the HTML representation or trust the notebook. <br />On GitHub, the HTML representation is unable to render, please try loading this page with nbviewer.org.</b></div><div class=\"sk-container\" hidden><div class=\"sk-item\"><div class=\"sk-estimator sk-toggleable\"><input class=\"sk-toggleable__control sk-hidden--visually\" id=\"sk-estimator-id-1\" type=\"checkbox\" checked><label for=\"sk-estimator-id-1\" class=\"sk-toggleable__label sk-toggleable__label-arrow\">LinearRegression</label><div class=\"sk-toggleable__content\"><pre>LinearRegression()</pre></div></div></div></div></div>"
      ],
      "text/plain": [
       "LinearRegression()"
      ]
     },
     "execution_count": 34,
     "metadata": {},
     "output_type": "execute_result"
    }
   ],
   "source": [
    "\n",
    "#Modeling\n",
    "from sklearn.linear_model import LinearRegression\n",
    "model = LinearRegression()\n",
    "model.fit(xtrain[['ENGINESIZE']] , ytrain.values.ravel())  \n",
    "#to train model fit func is there,parameter contains xtrain & ytrain,which i want to train\n",
    "#Now training has done"
   ]
  },
  {
   "cell_type": "code",
   "execution_count": 35,
   "metadata": {},
   "outputs": [
    {
     "data": {
      "text/plain": [
       "array([5.5, 4.6, 2. , 2. , 3.2, 1.5, 1.6, 3.5, 4.6, 1.8, 5.3, 2. , 2. ,\n",
       "       2.5, 5.5, 1.5, 4. , 4.4, 3. , 2. , 3.6, 2. , 5.9, 1.8, 2.5, 5.3,\n",
       "       3.5, 6.8, 5.5, 2.7, 2.5, 2. , 3.5, 2.4, 2.7, 5. , 5.7, 3.6, 4.4,\n",
       "       1.6, 3.6, 2.5, 4.7, 6.7, 3.7, 3.5, 3.6, 2. , 2.7, 5.6, 4.4, 6.6,\n",
       "       2. , 3.6, 6. , 2. , 2.5, 2.4, 6.2, 2. , 2.4, 2. , 1.6, 2.5, 6. ,\n",
       "       5.3, 2. , 5.3, 3. , 4.4, 4.3, 2.4, 1.8, 1.4, 2.5, 4.6, 3.6, 3.6,\n",
       "       2. , 2.5, 5.4, 1.5, 4. , 2.5, 5. , 3. , 2. , 1.6, 3.6, 2. , 1.8,\n",
       "       3.6, 1. , 4.4, 3. , 1.5, 2.7, 2. , 3. , 2.5, 4.3, 5.3, 3.7, 3.7,\n",
       "       3.3, 2.7, 2. , 3.6, 5.2, 3.6, 2.4, 3.6, 6. , 5. , 2.5, 2.4, 3.5,\n",
       "       2.5, 3.5, 2. , 2.4, 3.5, 5.7, 2. , 2.4, 5. , 3.7, 3.6, 2. , 1.6,\n",
       "       2.4, 2. , 1.2, 5.3, 1.4, 3.6, 1.6, 3.5, 2.4, 2. , 2. , 2. , 1.6,\n",
       "       1.4, 3.6, 5.3, 5.3, 3.6, 2. , 2.7, 3. , 2.7, 2.4, 1.8, 2. , 6.2,\n",
       "       3.7, 5.3, 5. , 4.4, 3.5, 2.4, 3. , 3.6, 6.2, 3.6, 3.5, 2. , 3. ,\n",
       "       6.2, 1.6, 4. , 2. , 5.3, 3.6, 5.3, 3. , 2.4, 3.6, 4.4, 2.5, 2. ,\n",
       "       3.4, 5.4, 1.6, 2. , 2. , 3.6, 3.7, 1.6, 3. , 4.7, 4.7, 5.3, 3.7,\n",
       "       2. , 5. , 4.7, 1.8, 3.4, 3. , 2. , 1.4, 5. , 3.6, 2. , 2.4, 4.4,\n",
       "       3.7, 1.6, 3.5, 4.8, 6.2, 4.2, 3.5, 2.4, 1.6, 1.6, 1.6, 6. , 1.6,\n",
       "       3.5, 5.3, 4.6, 4. , 1.6, 3.6, 5.7, 5.7, 2.4, 2.5, 3. , 3.8, 3.8,\n",
       "       3.5, 5.3, 1.6, 6.2, 2. , 2.4, 3.5, 4.8, 3.6, 4. , 2.4, 2.5, 4. ,\n",
       "       5.7, 5.3, 2.5, 2. , 3.5, 4.4, 3. , 5.4, 3. , 6.2, 5.3, 1.5, 6.2,\n",
       "       3. , 3.6, 3.6, 4.7, 6. , 1.6, 2. , 5.4, 3. , 3. , 3. , 3. , 2. ,\n",
       "       2. , 6.7, 1. , 4.2, 1.6, 1.6, 5. , 2. , 3.7, 6. , 3.6, 6. , 3.5,\n",
       "       2.4, 4.7, 3. , 3.8, 2.5, 2.4, 1.4, 6.7, 3.7, 2. , 1.4, 3.8, 1.6,\n",
       "       3.6, 3.8, 3.5, 1.8, 2.4, 4.4, 3.7, 2. , 2. , 3.2, 3.6, 2. , 4.4,\n",
       "       3. , 3.5, 3.5, 3. , 4.7, 2.5, 3.5, 3.5, 3.7, 5. , 3.5, 3.5, 3.8,\n",
       "       2. , 1.3, 3.5, 1.2, 1.4, 2. , 1.6, 3.5, 3.5, 2. , 3.6, 3.6, 3. ,\n",
       "       2.5, 1.6, 3.4, 8.4, 1.6, 2.5, 5.7, 4. , 2.5, 5.5, 3. , 5.3, 1.4,\n",
       "       1.8, 2.4, 3.7, 3.5, 2.4, 1.8, 4.8, 4.7, 3. , 2. , 3.3, 3.7, 5. ,\n",
       "       1.4, 4.6, 1.6, 3. , 2. , 1.6, 1.8, 4.3, 5. , 2. , 3.2, 2.4, 5.3,\n",
       "       2. , 1.8, 2.5, 2. , 3.5, 5.3, 2. , 3. , 2.4, 1.8, 6. , 5.9, 3.6,\n",
       "       3.6, 4.6, 3.5, 6.6, 3.7, 2.4, 1.8, 3.6, 5.5, 2. , 5.3, 1.4, 3.5,\n",
       "       3.6, 2. , 3. , 2.5, 3. , 6. , 3. , 3. , 5.4, 3.5, 5.3, 5. , 5.4,\n",
       "       1.8, 1.8, 2. , 5.2, 3.8, 2. , 2.5, 2. , 1.8, 3.4, 3.6, 2. , 5.5,\n",
       "       3.6, 5. , 4. , 3. , 1.6, 6.2, 2. , 2. , 2.5, 1.6, 3. , 2.4, 2.4,\n",
       "       4. , 3.5, 1.8, 3.6, 3. , 3.8, 1.6, 3. , 3.7, 3.8, 4.7, 2. , 5.3,\n",
       "       1.8, 3. , 3.5, 2.4, 3.7, 1.6, 4. , 5.3, 2. , 2. , 2. , 5. , 2. ,\n",
       "       4.8, 3.5, 1.5, 1.4, 6. , 3.7, 2.5, 2.4, 3. , 3.6, 5.3, 4.4, 5. ,\n",
       "       6.2, 3.7, 2. , 3.6, 2. , 1.6, 4.4, 3. , 5.2, 2. , 3.3, 2.4, 1.6,\n",
       "       2. , 1.4, 6.2, 1.6, 6.4, 4.7, 3. , 5.3, 3.6, 2.5, 3.6, 2.7, 4.3,\n",
       "       3.7, 2.5, 3.5, 3.6, 3.6, 3.6, 3.6, 3.6, 3.5, 3.6, 3.6, 3.5, 2. ,\n",
       "       2. , 1.8, 3.6, 2. , 8.4, 2.7, 2.4, 2. , 4. , 5.4, 4.6, 1. , 2.5,\n",
       "       1.8, 2.5, 5.6, 1.6, 3.5, 3. , 6.4, 5.5, 5.3, 2. , 4.2, 2.1, 6.2,\n",
       "       3. , 3.2, 3.5, 1.4, 1.6, 3.5, 6.2, 4.6, 1.4, 4.2, 1.6, 3. , 2. ,\n",
       "       5.3, 3.5, 3. , 2.4, 2. , 3.6, 2. , 3. , 2. , 3. , 2. , 3.6, 5.3,\n",
       "       3. , 3.6, 1.8, 3. , 2. , 1.8, 4. , 2. , 4.2, 5.7, 3.6, 5. , 5. ,\n",
       "       5.3, 3. , 4. , 3. , 1.5, 3.7, 1.8, 1.4, 6. , 2.5, 2.5, 2.5, 2.5,\n",
       "       5. , 6.2, 3.5, 1.8, 3.6, 3.5, 3. , 5.3, 2.5, 3.6, 2. , 2.1, 3.4,\n",
       "       5.8, 3.6, 2. , 1.8, 4.8, 3. , 5.6, 2.5, 2.5, 5. , 1.6, 2. , 5.3,\n",
       "       2.5, 2. , 2. , 2. , 3.6, 3.6, 2. , 3.5, 5. , 2. , 3.6, 2.5, 2. ,\n",
       "       3.5, 3. , 1.6, 1.6, 3.5, 3.6, 2.4, 2. , 3.6, 2. , 3.6, 2. , 5. ,\n",
       "       6.2, 3.6, 2.5, 1.4, 5.3, 2. , 1.8, 4. , 2. , 5.3, 3.4, 1.6, 4.7,\n",
       "       2.4, 3. , 3.4, 2. , 1.4, 2.5, 1.8, 3.2, 1.6, 6.2, 3.6, 3.7, 3.5,\n",
       "       6.2, 2.5, 2.4, 3.4, 1.8, 3.5, 3. , 1.5, 2.4, 3.6, 3. , 4.3, 2.5,\n",
       "       5.5, 2.4, 1.6, 3.5, 3.8, 3. , 2. , 3.7, 3. , 1.4, 6.8, 2. , 2. ,\n",
       "       5.3, 3.2, 2. , 6.4, 2.4, 4.3, 5.3, 5. , 1.8, 5.3, 1.8, 4.8, 5.5,\n",
       "       1.6, 3.5, 1.4, 2. , 2. , 2. , 6.6, 3.6, 3.6, 3.6, 4.6, 4.3, 3.5,\n",
       "       1.6, 3. , 5.5, 1.8, 3.5, 6.2, 5. , 3.6, 5. , 2. , 2.4, 6.4, 2.5,\n",
       "       2.4, 1.6, 5. , 2.4, 2. , 2.7, 2. , 6.2, 2. , 1.6, 3.5, 3.6, 3. ,\n",
       "       5.3, 5.5, 3.5, 2. , 6.2, 4.7, 3.8, 2.4, 1.5, 1.6, 2. , 2.4, 3.5,\n",
       "       5.3, 6.5, 2.5, 2. , 3.5, 3.6, 2.4, 2. , 2. , 2.4, 2.5, 3.6, 5.5,\n",
       "       4. , 2.4, 5. , 3.5, 5. , 1.4, 4.8, 3.6, 3.6, 2. , 3.3, 4.7, 3. ,\n",
       "       3.6, 3.6, 1.6, 2.5, 4.8, 2.4, 3.2])"
      ]
     },
     "execution_count": 35,
     "metadata": {},
     "output_type": "execute_result"
    }
   ],
   "source": [
    "#check for 2D 3D 1D\n",
    "ytrain#DataFrame\n",
    "ytrain.values#Now its 2D numpy Array\n",
    "ytrain.values.ravel()#Now it is convert to 1D array\n",
    "\n",
    "xtrain.ENGINESIZE#Series\n",
    "xtrain.ENGINESIZE.values"
   ]
  },
  {
   "cell_type": "code",
   "execution_count": 36,
   "metadata": {},
   "outputs": [
    {
     "data": {
      "text/plain": [
       "124.23458594672337"
      ]
     },
     "execution_count": 36,
     "metadata": {},
     "output_type": "execute_result"
    }
   ],
   "source": [
    "model.intercept_#That is (THETA 0)"
   ]
  },
  {
   "cell_type": "code",
   "execution_count": 37,
   "metadata": {},
   "outputs": [
    {
     "data": {
      "text/plain": [
       "array([39.54874496])"
      ]
     },
     "execution_count": 37,
     "metadata": {},
     "output_type": "execute_result"
    }
   ],
   "source": [
    "model.coef_#1 Feature thats why (Theta 1),when more it will b theta1,theta2\n"
   ]
  },
  {
   "cell_type": "code",
   "execution_count": 38,
   "metadata": {},
   "outputs": [
    {
     "data": {
      "text/html": [
       "<div>\n",
       "<style scoped>\n",
       "    .dataframe tbody tr th:only-of-type {\n",
       "        vertical-align: middle;\n",
       "    }\n",
       "\n",
       "    .dataframe tbody tr th {\n",
       "        vertical-align: top;\n",
       "    }\n",
       "\n",
       "    .dataframe thead th {\n",
       "        text-align: right;\n",
       "    }\n",
       "</style>\n",
       "<table border=\"1\" class=\"dataframe\">\n",
       "  <thead>\n",
       "    <tr style=\"text-align: right;\">\n",
       "      <th></th>\n",
       "      <th>ENGINESIZE</th>\n",
       "      <th>CYLINDERS</th>\n",
       "      <th>FUELCONSUMPTION_CITY</th>\n",
       "      <th>CO2EMISSIONS</th>\n",
       "    </tr>\n",
       "  </thead>\n",
       "  <tbody>\n",
       "    <tr>\n",
       "      <th>132</th>\n",
       "      <td>4.4</td>\n",
       "      <td>8</td>\n",
       "      <td>18.1</td>\n",
       "      <td>370</td>\n",
       "    </tr>\n",
       "    <tr>\n",
       "      <th>341</th>\n",
       "      <td>1.4</td>\n",
       "      <td>4</td>\n",
       "      <td>9.3</td>\n",
       "      <td>193</td>\n",
       "    </tr>\n",
       "  </tbody>\n",
       "</table>\n",
       "</div>"
      ],
      "text/plain": [
       "     ENGINESIZE  CYLINDERS  FUELCONSUMPTION_CITY  CO2EMISSIONS\n",
       "132         4.4          8                  18.1           370\n",
       "341         1.4          4                   9.3           193"
      ]
     },
     "execution_count": 38,
     "metadata": {},
     "output_type": "execute_result"
    }
   ],
   "source": [
    "data.iloc[[132,341]]"
   ]
  },
  {
   "cell_type": "code",
   "execution_count": 38,
   "metadata": {},
   "outputs": [
    {
     "data": {
      "text/html": [
       "<div>\n",
       "<style scoped>\n",
       "    .dataframe tbody tr th:only-of-type {\n",
       "        vertical-align: middle;\n",
       "    }\n",
       "\n",
       "    .dataframe tbody tr th {\n",
       "        vertical-align: top;\n",
       "    }\n",
       "\n",
       "    .dataframe thead th {\n",
       "        text-align: right;\n",
       "    }\n",
       "</style>\n",
       "<table border=\"1\" class=\"dataframe\">\n",
       "  <thead>\n",
       "    <tr style=\"text-align: right;\">\n",
       "      <th></th>\n",
       "      <th>ENGINESIZE</th>\n",
       "      <th>CYLINDERS</th>\n",
       "      <th>FUELCONSUMPTION_CITY</th>\n",
       "      <th>CO2EMISSIONS</th>\n",
       "    </tr>\n",
       "  </thead>\n",
       "  <tbody>\n",
       "    <tr>\n",
       "      <th>133</th>\n",
       "      <td>3.0</td>\n",
       "      <td>6</td>\n",
       "      <td>13.6</td>\n",
       "      <td>274</td>\n",
       "    </tr>\n",
       "    <tr>\n",
       "      <th>340</th>\n",
       "      <td>1.4</td>\n",
       "      <td>4</td>\n",
       "      <td>10.0</td>\n",
       "      <td>200</td>\n",
       "    </tr>\n",
       "  </tbody>\n",
       "</table>\n",
       "</div>"
      ],
      "text/plain": [
       "     ENGINESIZE  CYLINDERS  FUELCONSUMPTION_CITY  CO2EMISSIONS\n",
       "133         3.0          6                  13.6           274\n",
       "340         1.4          4                  10.0           200"
      ]
     },
     "execution_count": 38,
     "metadata": {},
     "output_type": "execute_result"
    }
   ],
   "source": [
    "data.iloc[[133,340]]#Actual prediction,ENGINESIZE 3.0,CO2EMISSIONS 274"
   ]
  },
  {
   "cell_type": "code",
   "execution_count": 39,
   "metadata": {},
   "outputs": [
    {
     "data": {
      "text/plain": [
       "(      ENGINESIZE\n",
       " 133          3.0\n",
       " 340          1.4\n",
       " 948          2.0\n",
       " 704          2.0\n",
       " 661          4.6\n",
       " ...          ...\n",
       " 238          4.3\n",
       " 546          5.6\n",
       " 773          1.8\n",
       " 354          3.5\n",
       " 1041         2.0\n",
       " \n",
       " [267 rows x 1 columns],\n",
       " array([242.88082083, 179.60282889, 203.33207587, 203.33207587,\n",
       "        306.15881277, 242.88082083, 203.33207587, 195.42232688,\n",
       "        242.88082083, 219.15157386, 219.15157386, 242.88082083,\n",
       "        219.15157386, 329.88805975, 223.10644835, 223.10644835,\n",
       "        187.51257789, 298.24906378, 262.65519331, 219.15157386,\n",
       "        361.52705572, 223.10644835, 270.56494231, 262.65519331,\n",
       "        270.56494231, 242.88082083, 171.6930799 , 341.75268324,\n",
       "        187.51257789, 203.33207587, 242.88082083, 329.88805975,\n",
       "        262.65519331, 333.84293425, 282.42956579, 333.84293425,\n",
       "        369.43680471, 183.55770339, 290.33931479, 254.74544432,\n",
       "        242.88082083, 373.39167921, 203.33207587, 266.61006781,\n",
       "        270.56494231, 203.33207587, 179.60282889, 179.60282889,\n",
       "        203.33207587, 258.70031882, 187.51257789, 349.66243223,\n",
       "        294.29418928, 369.43680471, 203.33207587, 270.56494231,\n",
       "        223.10644835, 321.97831076, 270.56494231, 187.51257789,\n",
       "        219.15157386, 231.01619734, 203.33207587, 203.33207587,\n",
       "        203.33207587, 195.42232688, 270.56494231, 266.61006781,\n",
       "        203.33207587, 187.51257789, 203.33207587, 203.33207587,\n",
       "        266.61006781, 262.65519331, 321.97831076, 369.43680471,\n",
       "        203.33207587, 369.43680471, 203.33207587, 270.56494231,\n",
       "        369.43680471, 179.60282889, 349.66243223, 321.97831076,\n",
       "        203.33207587, 369.43680471, 274.5198168 , 262.65519331,\n",
       "        203.33207587, 266.61006781, 333.84293425, 298.24906378,\n",
       "        203.33207587, 262.65519331, 203.33207587, 203.33207587,\n",
       "        333.84293425, 389.21117719, 203.33207587, 282.42956579,\n",
       "        219.15157386, 369.43680471, 203.33207587, 262.65519331,\n",
       "        187.51257789, 298.24906378, 195.42232688, 333.84293425,\n",
       "        195.42232688, 203.33207587, 219.15157386, 369.43680471,\n",
       "        341.75268324, 298.24906378, 333.84293425, 262.65519331,\n",
       "        223.10644835, 223.10644835, 321.97831076, 203.33207587,\n",
       "        274.5198168 , 294.29418928, 203.33207587, 270.56494231,\n",
       "        203.33207587, 203.33207587, 349.66243223, 349.66243223,\n",
       "        310.11368727, 203.33207587, 219.15157386, 187.51257789,\n",
       "        266.61006781, 266.61006781, 333.84293425, 310.11368727,\n",
       "        321.97831076, 187.51257789, 333.84293425, 219.15157386,\n",
       "        179.60282889, 203.33207587, 203.33207587, 171.6930799 ,\n",
       "        310.11368727, 203.33207587, 321.97831076, 337.79780874,\n",
       "        333.84293425, 266.61006781, 203.33207587, 242.88082083,\n",
       "        357.57218122, 345.70755773, 262.65519331, 223.10644835,\n",
       "        262.65519331, 369.43680471, 195.42232688, 203.33207587,\n",
       "        187.51257789, 266.61006781, 282.42956579, 179.60282889,\n",
       "        242.88082083, 349.66243223, 203.33207587, 262.65519331,\n",
       "        349.66243223, 262.65519331, 270.56494231, 310.11368727,\n",
       "        282.42956579, 187.51257789, 321.97831076, 242.88082083,\n",
       "        369.43680471, 258.70031882, 183.55770339, 361.52705572,\n",
       "        282.42956579, 333.84293425, 242.88082083, 179.60282889,\n",
       "        262.65519331, 262.65519331, 219.15157386, 262.65519331,\n",
       "        262.65519331, 179.60282889, 203.33207587, 187.51257789,\n",
       "        219.15157386, 361.52705572, 298.24906378, 266.61006781,\n",
       "        262.65519331, 258.70031882, 349.66243223, 298.24906378,\n",
       "        262.65519331, 274.5198168 , 262.65519331, 266.61006781,\n",
       "        266.61006781, 203.33207587, 187.51257789, 274.5198168 ,\n",
       "        219.15157386, 266.61006781, 187.51257789, 274.5198168 ,\n",
       "        270.56494231, 203.33207587, 242.88082083, 377.3465537 ,\n",
       "        223.10644835, 314.06856176, 282.42956579, 183.55770339,\n",
       "        187.51257789, 203.33207587, 250.79056983, 266.61006781,\n",
       "        369.43680471, 242.88082083, 298.24906378, 203.33207587,\n",
       "        262.65519331, 262.65519331, 262.65519331, 187.51257789,\n",
       "        179.60282889, 349.66243223, 321.97831076, 203.33207587,\n",
       "        179.60282889, 266.61006781, 321.97831076, 345.70755773,\n",
       "        314.06856176, 223.10644835, 203.33207587, 369.43680471,\n",
       "        321.97831076, 242.88082083, 187.51257789, 258.70031882,\n",
       "        219.15157386, 270.56494231, 321.97831076, 270.56494231,\n",
       "        262.65519331, 349.66243223, 187.51257789, 250.79056983,\n",
       "        329.88805975, 282.42956579, 321.97831076, 266.61006781,\n",
       "        262.65519331, 242.88082083, 294.29418928, 345.70755773,\n",
       "        195.42232688, 262.65519331, 203.33207587]))"
      ]
     },
     "execution_count": 39,
     "metadata": {},
     "output_type": "execute_result"
    }
   ],
   "source": [
    "#prb\n",
    "\n",
    "ypred = model.predict(xtest[['ENGINESIZE']])#prb 267 outputs,how does it predict?based on enginsize predict co2emission???or xtest=267 but xtrain =800.so can we predict?\n",
    "#ypred = yhat value based on algorithm\n",
    "xtest[['ENGINESIZE']] , ypred#now lets see co2emission depending on engSize,in prev cell we have actual val"
   ]
  },
  {
   "cell_type": "code",
   "execution_count": 41,
   "metadata": {},
   "outputs": [
    {
     "data": {
      "text/plain": [
       "(ENGINESIZE    3.0\n",
       " Name: 133, dtype: float64,\n",
       " 242.88082083279193,\n",
       " array([274], dtype=int64))"
      ]
     },
     "execution_count": 41,
     "metadata": {},
     "output_type": "execute_result"
    }
   ],
   "source": [
    "xtest[['ENGINESIZE']].iloc[0],ypred[0],ytest.values[0]"
   ]
  },
  {
   "cell_type": "code",
   "execution_count": 42,
   "metadata": {},
   "outputs": [
    {
     "data": {
      "text/plain": [
       "array([31.11917917])"
      ]
     },
     "execution_count": 42,
     "metadata": {},
     "output_type": "execute_result"
    }
   ],
   "source": [
    "#calculate actual error\n",
    "ytest.values[0] - ypred[0]"
   ]
  },
  {
   "cell_type": "code",
   "execution_count": 43,
   "metadata": {},
   "outputs": [
    {
     "name": "stdout",
     "output_type": "stream",
     "text": [
      "AVG Mean Absolute Error:  23.183704964940226\n",
      "Mean Squared Error:  947.2869872487785\n",
      "R2Score ,cal  % Error:   0.7633265438534859\n"
     ]
    }
   ],
   "source": [
    "#Evaluation\n",
    "#now we do evaluate avg error and how much predict correctly \n",
    "#sklearn gave metrics function that contains many evaluation func,which func throug we evaluate error and check performance\n",
    "\n",
    "from sklearn.metrics import mean_absolute_error , mean_squared_error , r2_score\n",
    "print('AVG Mean Absolute Error: ' , mean_absolute_error(ytest , ypred))#mean_absolute_error take 2 paramtr,1 is y_true means ytest\n",
    "print('Mean Squared Error: ' , mean_squared_error(ytest , ypred))\n",
    "print('R2Score ,cal  % Error:  ' , r2_score(ytest , ypred))"
   ]
  },
  {
   "cell_type": "markdown",
   "metadata": {},
   "source": [
    "# Prediction for CYLINDERS"
   ]
  },
  {
   "cell_type": "code",
   "execution_count": 44,
   "metadata": {},
   "outputs": [
    {
     "data": {
      "image/png": "[encoded data removed]",
      "text/plain": [
       "<Figure size 432x288 with 1 Axes>"
      ]
     },
     "metadata": {
      "needs_background": "light"
     },
     "output_type": "display_data"
    }
   ],
   "source": [
    "\n",
    "plt.scatter(feature.CYLINDERS,target.values)#Values will convert to numpy array\n",
    "plt.title('CYLINDERS Vs CO2EMISSIONS')\n",
    "plt.xlabel('CYLINDERS')\n",
    "plt.ylabel('CO2EMISSIONS')\n",
    "plt.show()"
   ]
  },
  {
   "cell_type": "code",
   "execution_count": 45,
   "metadata": {},
   "outputs": [
    {
     "data": {
      "text/html": [
       "<div>\n",
       "<style scoped>\n",
       "    .dataframe tbody tr th:only-of-type {\n",
       "        vertical-align: middle;\n",
       "    }\n",
       "\n",
       "    .dataframe tbody tr th {\n",
       "        vertical-align: top;\n",
       "    }\n",
       "\n",
       "    .dataframe thead th {\n",
       "        text-align: right;\n",
       "    }\n",
       "</style>\n",
       "<table border=\"1\" class=\"dataframe\">\n",
       "  <thead>\n",
       "    <tr style=\"text-align: right;\">\n",
       "      <th></th>\n",
       "      <th>ENGINESIZE</th>\n",
       "      <th>CYLINDERS</th>\n",
       "      <th>FUELCONSUMPTION_CITY</th>\n",
       "      <th>CO2EMISSIONS</th>\n",
       "    </tr>\n",
       "  </thead>\n",
       "  <tbody>\n",
       "    <tr>\n",
       "      <th>133</th>\n",
       "      <td>3.0</td>\n",
       "      <td>6</td>\n",
       "      <td>13.6</td>\n",
       "      <td>274</td>\n",
       "    </tr>\n",
       "    <tr>\n",
       "      <th>340</th>\n",
       "      <td>1.4</td>\n",
       "      <td>4</td>\n",
       "      <td>10.0</td>\n",
       "      <td>200</td>\n",
       "    </tr>\n",
       "  </tbody>\n",
       "</table>\n",
       "</div>"
      ],
      "text/plain": [
       "     ENGINESIZE  CYLINDERS  FUELCONSUMPTION_CITY  CO2EMISSIONS\n",
       "133         3.0          6                  13.6           274\n",
       "340         1.4          4                  10.0           200"
      ]
     },
     "execution_count": 45,
     "metadata": {},
     "output_type": "execute_result"
    }
   ],
   "source": [
    "data.iloc[[133,340]]\n"
   ]
  },
  {
   "cell_type": "code",
   "execution_count": 46,
   "metadata": {},
   "outputs": [
    {
     "data": {
      "text/plain": [
       "(CYLINDERS    6\n",
       " Name: 133, dtype: int64,\n",
       " 242.88082083279193,\n",
       " array([274], dtype=int64))"
      ]
     },
     "execution_count": 46,
     "metadata": {},
     "output_type": "execute_result"
    }
   ],
   "source": [
    "xtest[['CYLINDERS']].iloc[0],ypred[0],ytest.values[0]"
   ]
  },
  {
   "cell_type": "code",
   "execution_count": 47,
   "metadata": {},
   "outputs": [
    {
     "name": "stdout",
     "output_type": "stream",
     "text": [
      "82.10634518016053\n",
      "[30.09889888]\n"
     ]
    },
    {
     "data": {
      "text/plain": [
       "(      CYLINDERS\n",
       " 133           6\n",
       " 340           4\n",
       " 948           4\n",
       " 704           4\n",
       " 661           8\n",
       " ...         ...\n",
       " 238           6\n",
       " 546           8\n",
       " 773           4\n",
       " 354           6\n",
       " 1041          4\n",
       " \n",
       " [267 rows x 1 columns],\n",
       " array([262.69973848, 202.50194072, 202.50194072, 202.50194072,\n",
       "        322.89753625, 262.69973848, 202.50194072, 202.50194072,\n",
       "        262.69973848, 202.50194072, 202.50194072, 262.69973848,\n",
       "        202.50194072, 383.09533402, 202.50194072, 202.50194072,\n",
       "        202.50194072, 322.89753625, 262.69973848, 202.50194072,\n",
       "        322.89753625, 202.50194072, 262.69973848, 262.69973848,\n",
       "        262.69973848, 262.69973848, 172.40304183, 322.89753625,\n",
       "        202.50194072, 202.50194072, 262.69973848, 383.09533402,\n",
       "        262.69973848, 322.89753625, 322.89753625, 322.89753625,\n",
       "        322.89753625, 202.50194072, 322.89753625, 262.69973848,\n",
       "        262.69973848, 443.29313179, 202.50194072, 262.69973848,\n",
       "        262.69973848, 202.50194072, 202.50194072, 202.50194072,\n",
       "        202.50194072, 262.69973848, 202.50194072, 322.89753625,\n",
       "        262.69973848, 322.89753625, 202.50194072, 262.69973848,\n",
       "        202.50194072, 322.89753625, 262.69973848, 202.50194072,\n",
       "        202.50194072, 202.50194072, 202.50194072, 202.50194072,\n",
       "        202.50194072, 202.50194072, 262.69973848, 262.69973848,\n",
       "        202.50194072, 202.50194072, 202.50194072, 202.50194072,\n",
       "        262.69973848, 262.69973848, 322.89753625, 322.89753625,\n",
       "        202.50194072, 322.89753625, 202.50194072, 262.69973848,\n",
       "        322.89753625, 202.50194072, 322.89753625, 322.89753625,\n",
       "        202.50194072, 322.89753625, 262.69973848, 262.69973848,\n",
       "        202.50194072, 262.69973848, 322.89753625, 322.89753625,\n",
       "        202.50194072, 262.69973848, 202.50194072, 202.50194072,\n",
       "        322.89753625, 443.29313179, 202.50194072, 322.89753625,\n",
       "        202.50194072, 322.89753625, 202.50194072, 262.69973848,\n",
       "        202.50194072, 322.89753625, 202.50194072, 322.89753625,\n",
       "        202.50194072, 202.50194072, 202.50194072, 322.89753625,\n",
       "        322.89753625, 322.89753625, 322.89753625, 262.69973848,\n",
       "        202.50194072, 202.50194072, 322.89753625, 202.50194072,\n",
       "        262.69973848, 262.69973848, 202.50194072, 262.69973848,\n",
       "        202.50194072, 202.50194072, 322.89753625, 322.89753625,\n",
       "        322.89753625, 202.50194072, 202.50194072, 202.50194072,\n",
       "        262.69973848, 262.69973848, 322.89753625, 322.89753625,\n",
       "        322.89753625, 202.50194072, 322.89753625, 202.50194072,\n",
       "        202.50194072, 202.50194072, 202.50194072, 202.50194072,\n",
       "        322.89753625, 202.50194072, 322.89753625, 322.89753625,\n",
       "        322.89753625, 262.69973848, 202.50194072, 262.69973848,\n",
       "        443.29313179, 322.89753625, 262.69973848, 202.50194072,\n",
       "        262.69973848, 322.89753625, 202.50194072, 202.50194072,\n",
       "        202.50194072, 262.69973848, 262.69973848, 202.50194072,\n",
       "        262.69973848, 322.89753625, 202.50194072, 262.69973848,\n",
       "        322.89753625, 262.69973848, 262.69973848, 322.89753625,\n",
       "        322.89753625, 202.50194072, 322.89753625, 262.69973848,\n",
       "        322.89753625, 262.69973848, 202.50194072, 322.89753625,\n",
       "        322.89753625, 322.89753625, 262.69973848, 202.50194072,\n",
       "        262.69973848, 262.69973848, 202.50194072, 262.69973848,\n",
       "        262.69973848, 202.50194072, 202.50194072, 202.50194072,\n",
       "        202.50194072, 443.29313179, 322.89753625, 262.69973848,\n",
       "        262.69973848, 262.69973848, 322.89753625, 322.89753625,\n",
       "        262.69973848, 262.69973848, 262.69973848, 262.69973848,\n",
       "        262.69973848, 202.50194072, 202.50194072, 262.69973848,\n",
       "        202.50194072, 262.69973848, 202.50194072, 262.69973848,\n",
       "        262.69973848, 202.50194072, 262.69973848, 322.89753625,\n",
       "        202.50194072, 322.89753625, 322.89753625, 202.50194072,\n",
       "        202.50194072, 202.50194072, 262.69973848, 262.69973848,\n",
       "        322.89753625, 262.69973848, 322.89753625, 202.50194072,\n",
       "        262.69973848, 262.69973848, 262.69973848, 202.50194072,\n",
       "        202.50194072, 322.89753625, 322.89753625, 202.50194072,\n",
       "        202.50194072, 262.69973848, 322.89753625, 322.89753625,\n",
       "        322.89753625, 202.50194072, 202.50194072, 322.89753625,\n",
       "        322.89753625, 262.69973848, 202.50194072, 262.69973848,\n",
       "        202.50194072, 262.69973848, 322.89753625, 262.69973848,\n",
       "        262.69973848, 322.89753625, 202.50194072, 262.69973848,\n",
       "        383.09533402, 262.69973848, 322.89753625, 262.69973848,\n",
       "        262.69973848, 262.69973848, 262.69973848, 322.89753625,\n",
       "        202.50194072, 262.69973848, 202.50194072]))"
      ]
     },
     "execution_count": 47,
     "metadata": {},
     "output_type": "execute_result"
    }
   ],
   "source": [
    "modelCY1 = LinearRegression()\n",
    "modelCY1.fit(xtrain[['CYLINDERS']] , ytrain.values.ravel())\n",
    "print(modelCY1.intercept_)#Theta 0\n",
    "print(modelCY1.coef_)#Theta 1\n",
    "ypred = modelCY1.predict(xtest[['CYLINDERS']])\n",
    "xtest[['CYLINDERS']] , ypred"
   ]
  },
  {
   "cell_type": "code",
   "execution_count": 48,
   "metadata": {},
   "outputs": [
    {
     "name": "stdout",
     "output_type": "stream",
     "text": [
      "AVG Mean Absolute Error:  25.14225028771549\n",
      "Mean Squared Error:  1060.6489957960428\n",
      "R2Score ,cal  % Error:   0.7350037876879928\n"
     ]
    }
   ],
   "source": [
    "print('AVG Mean Absolute Error: ' , mean_absolute_error(ytest , ypred))#mean_absolute_error take 2 paramtr,1 is y_true means ytest\n",
    "print('Mean Squared Error: ' , mean_squared_error(ytest , ypred))\n",
    "print('R2Score ,cal  % Error:  ' , r2_score(ytest , ypred))"
   ]
  },
  {
   "cell_type": "code",
   "execution_count": 49,
   "metadata": {},
   "outputs": [
    {
     "data": {
      "image/png": "[encoded data removed]",
      "text/plain": [
       "<Figure size 432x288 with 1 Axes>"
      ]
     },
     "metadata": {
      "needs_background": "light"
     },
     "output_type": "display_data"
    }
   ],
   "source": [
    "#Linear Regression with FUELCONSUMPTION_CITY\n",
    "plt.scatter(feature.FUELCONSUMPTION_CITY,target.values)#Values will convert to numpy array\n",
    "plt.title('FUELCONSUMPTION_CITY Vs CO2EMISSIONS')\n",
    "plt.xlabel('FUELCONSUMPTION_CITY')\n",
    "plt.ylabel('CO2EMISSIONS')\n",
    "plt.show()\n"
   ]
  },
  {
   "cell_type": "code",
   "execution_count": 50,
   "metadata": {},
   "outputs": [
    {
     "name": "stdout",
     "output_type": "stream",
     "text": [
      "70.14701008083796\n",
      "[13.99871568]\n"
     ]
    },
    {
     "data": {
      "text/plain": [
       "(      FUELCONSUMPTION_CITY\n",
       " 133                   13.6\n",
       " 340                   10.0\n",
       " 948                    9.6\n",
       " 704                    8.0\n",
       " 661                   15.7\n",
       " ...                    ...\n",
       " 238                   18.9\n",
       " 546                   17.4\n",
       " 773                   10.3\n",
       " 354                   13.3\n",
       " 1041                   7.9\n",
       " \n",
       " [267 rows x 1 columns],\n",
       " array([260.52954326, 210.13416683, 204.53468056, 182.13673548,\n",
       "        289.92684618, 207.3344237 , 191.93583645, 201.73493743,\n",
       "        229.73236878, 196.13545116, 231.13224034, 267.5289011 ,\n",
       "        204.53468056, 358.52055299, 201.73493743, 184.93647862,\n",
       "        200.33506586, 312.32479126, 261.92941483, 225.53275407,\n",
       "        492.90822347, 221.33313937, 246.53082759, 252.13031386,\n",
       "        280.12774521, 236.73172661, 168.13801981, 242.33121288,\n",
       "        190.53596489, 259.12967169, 214.33378153, 365.51991083,\n",
       "        236.73172661, 371.1193971 , 268.92877267, 294.12646088,\n",
       "        333.32286477, 180.73686391, 366.91978239, 256.32992856,\n",
       "        236.73172661, 324.92363537, 231.13224034, 254.93005699,\n",
       "        246.53082759, 212.93390997, 201.73493743, 148.53981786,\n",
       "        176.53724921, 243.73108445, 197.53532272, 316.52440596,\n",
       "        350.12132358, 324.92363537, 228.33249721, 268.92877267,\n",
       "        210.13416683, 238.13159818, 260.52954326, 189.13609332,\n",
       "        217.13352467, 249.33057072, 217.13352467, 201.73493743,\n",
       "        231.13224034, 203.13480899, 253.53018542, 250.73044229,\n",
       "        215.7336531 , 231.13224034, 228.33249721, 225.53275407,\n",
       "        330.52312164, 235.33185505, 368.31965396, 284.32735991,\n",
       "        156.93904727, 278.72787364, 218.53339624, 259.12967169,\n",
       "        303.92556185, 189.13609332, 291.32671775, 310.92491969,\n",
       "        225.53275407, 345.92170888, 243.73108445, 242.33121288,\n",
       "        212.93390997, 243.73108445, 330.52312164, 280.12774521,\n",
       "        183.53660705, 238.13159818, 232.53211191, 221.33313937,\n",
       "        326.32350693, 359.92042456, 242.33121288, 275.9281305 ,\n",
       "        218.53339624, 308.12517656, 233.93198348, 257.72980013,\n",
       "        221.33313937, 280.12774521, 200.33506586, 371.1193971 ,\n",
       "        208.73429526, 218.53339624, 229.73236878, 351.52119515,\n",
       "        350.12132358, 296.92620402, 371.1193971 , 245.13095602,\n",
       "        208.73429526, 222.73301094, 302.52569029, 207.3344237 ,\n",
       "        246.53082759, 268.92877267, 215.7336531 , 254.93005699,\n",
       "        191.93583645, 222.73301094, 291.32671775, 312.32479126,\n",
       "        323.5237638 , 208.73429526, 214.33378153, 190.53596489,\n",
       "        266.12902953, 357.12068142, 404.71631472, 309.52504812,\n",
       "        420.11490196, 203.13480899, 278.72787364, 238.13159818,\n",
       "        191.93583645, 228.33249721, 214.33378153, 177.93712078,\n",
       "        256.32992856, 218.53339624, 379.5186265 , 340.32222261,\n",
       "        294.12646088, 264.72915796, 207.3344237 , 256.32992856,\n",
       "        322.12389223, 337.52247947, 204.53468056, 203.13480899,\n",
       "        299.72594715, 298.32607558, 203.13480899, 210.13416683,\n",
       "        182.13673548, 242.33121288, 270.32864423, 189.13609332,\n",
       "        268.92877267, 295.52633245, 260.52954326, 247.93069915,\n",
       "        288.52697461, 224.13288251, 352.92106672, 270.32864423,\n",
       "        285.72723148, 197.53532272, 305.32543342, 257.72980013,\n",
       "        396.31708531, 246.53082759, 154.13930413, 492.90822347,\n",
       "        303.92556185, 371.1193971 , 257.72980013, 203.13480899,\n",
       "        319.3241491 , 236.73172661, 245.13095602, 232.53211191,\n",
       "        334.72273634, 197.53532272, 221.33313937, 190.53596489,\n",
       "        212.93390997, 350.12132358, 280.12774521, 273.12838737,\n",
       "        252.13031386, 243.73108445, 298.32607558, 280.12774521,\n",
       "        236.73172661, 252.13031386, 250.73044229, 334.72273634,\n",
       "        268.92877267, 233.93198348, 197.53532272, 239.53146975,\n",
       "        235.33185505, 275.9281305 , 197.53532272, 261.92941483,\n",
       "        257.72980013, 144.34020316, 274.52825894, 303.92556185,\n",
       "        218.53339624, 292.72658931, 284.32735991, 162.53853354,\n",
       "        190.53596489, 218.53339624, 236.73172661, 249.33057072,\n",
       "        298.32607558, 235.33185505, 296.92620402, 198.93519429,\n",
       "        239.53146975, 180.73686391, 236.73172661, 191.93583645,\n",
       "        180.73686391, 323.5237638 , 292.72658931, 214.33378153,\n",
       "        200.33506586, 326.32350693, 383.7182412 , 320.72402066,\n",
       "        365.51991083, 268.92877267, 210.13416683, 345.92170888,\n",
       "        358.52055299, 274.52825894, 210.13416683, 235.33185505,\n",
       "        242.33121288, 270.32864423, 281.52761677, 256.32992856,\n",
       "        245.13095602, 309.52504812, 200.33506586, 278.72787364,\n",
       "        333.32286477, 277.32800207, 291.32671775, 317.92427753,\n",
       "        274.52825894, 239.53146975, 334.72273634, 313.72466283,\n",
       "        214.33378153, 256.32992856, 180.73686391]))"
      ]
     },
     "execution_count": 50,
     "metadata": {},
     "output_type": "execute_result"
    }
   ],
   "source": [
    "model1FCC = LinearRegression()\n",
    "model1FCC.fit(xtrain[['FUELCONSUMPTION_CITY']] , ytrain.values.ravel())\n",
    "print(model1FCC.intercept_)#Theta 0\n",
    "print(model1FCC.coef_)#Theta 1\n",
    "#Prediction\n",
    "ypred = model1FCC.predict(xtest[['FUELCONSUMPTION_CITY']])\n",
    "xtest[['FUELCONSUMPTION_CITY']] , ypred"
   ]
  },
  {
   "cell_type": "code",
   "execution_count": 51,
   "metadata": {},
   "outputs": [
    {
     "name": "stdout",
     "output_type": "stream",
     "text": [
      "AVG Mean Absolute Error:  20.185092379335014\n",
      "Mean Squared Error:  847.1415775522806\n",
      "R2Score ,cal  % Error:   0.788347219265608\n"
     ]
    }
   ],
   "source": [
    "print('AVG Mean Absolute Error: ' , mean_absolute_error(ytest , ypred))#mean_absolute_error take 2 paramtr,1 is y_true means ytest\n",
    "print('Mean Squared Error: ' , mean_squared_error(ytest , ypred))\n",
    "print('R2Score ,cal  % Error:  ' , r2_score(ytest , ypred))"
   ]
  },
  {
   "cell_type": "markdown",
   "metadata": {},
   "source": [
    "# Now Will Start with Multiple Linear Regression\n",
    "## Class 24"
   ]
  },
  {
   "cell_type": "code",
   "execution_count": 54,
   "metadata": {},
   "outputs": [
    {
     "data": {
      "text/plain": [
       "(      ENGINESIZE  CYLINDERS  FUELCONSUMPTION_CITY\n",
       " 0            2.0          4                   9.9\n",
       " 1            2.4          4                  11.2\n",
       " 2            1.5          4                   6.0\n",
       " 3            3.5          6                  12.7\n",
       " 4            3.5          6                  12.1\n",
       " ...          ...        ...                   ...\n",
       " 1062         3.0          6                  13.4\n",
       " 1063         3.2          6                  13.2\n",
       " 1064         3.0          6                  13.4\n",
       " 1065         3.2          6                  12.9\n",
       " 1066         3.2          6                  14.9\n",
       " \n",
       " [1067 rows x 3 columns],\n",
       "       CO2EMISSIONS\n",
       " 0              196\n",
       " 1              221\n",
       " 2              136\n",
       " 3              255\n",
       " 4              244\n",
       " ...            ...\n",
       " 1062           271\n",
       " 1063           264\n",
       " 1064           271\n",
       " 1065           260\n",
       " 1066           294\n",
       " \n",
       " [1067 rows x 1 columns])"
      ]
     },
     "execution_count": 54,
     "metadata": {},
     "output_type": "execute_result"
    }
   ],
   "source": [
    "xtrain ,ytrain\n",
    "feature, target"
   ]
  },
  {
   "cell_type": "code",
   "execution_count": 55,
   "metadata": {},
   "outputs": [
    {
     "data": {
      "text/html": [
       "<style>#sk-container-id-2 {color: black;background-color: white;}#sk-container-id-2 pre{padding: 0;}#sk-container-id-2 div.sk-toggleable {background-color: white;}#sk-container-id-2 label.sk-toggleable__label {cursor: pointer;display: block;width: 100%;margin-bottom: 0;padding: 0.3em;box-sizing: border-box;text-align: center;}#sk-container-id-2 label.sk-toggleable__label-arrow:before {content: \"▸\";float: left;margin-right: 0.25em;color: #696969;}#sk-container-id-2 label.sk-toggleable__label-arrow:hover:before {color: black;}#sk-container-id-2 div.sk-estimator:hover label.sk-toggleable__label-arrow:before {color: black;}#sk-container-id-2 div.sk-toggleable__content {max-height: 0;max-width: 0;overflow: hidden;text-align: left;background-color: #f0f8ff;}#sk-container-id-2 div.sk-toggleable__content pre {margin: 0.2em;color: black;border-radius: 0.25em;background-color: #f0f8ff;}#sk-container-id-2 input.sk-toggleable__control:checked~div.sk-toggleable__content {max-height: 200px;max-width: 100%;overflow: auto;}#sk-container-id-2 input.sk-toggleable__control:checked~label.sk-toggleable__label-arrow:before {content: \"▾\";}#sk-container-id-2 div.sk-estimator input.sk-toggleable__control:checked~label.sk-toggleable__label {background-color: #d4ebff;}#sk-container-id-2 div.sk-label input.sk-toggleable__control:checked~label.sk-toggleable__label {background-color: #d4ebff;}#sk-container-id-2 input.sk-hidden--visually {border: 0;clip: rect(1px 1px 1px 1px);clip: rect(1px, 1px, 1px, 1px);height: 1px;margin: -1px;overflow: hidden;padding: 0;position: absolute;width: 1px;}#sk-container-id-2 div.sk-estimator {font-family: monospace;background-color: #f0f8ff;border: 1px dotted black;border-radius: 0.25em;box-sizing: border-box;margin-bottom: 0.5em;}#sk-container-id-2 div.sk-estimator:hover {background-color: #d4ebff;}#sk-container-id-2 div.sk-parallel-item::after {content: \"\";width: 100%;border-bottom: 1px solid gray;flex-grow: 1;}#sk-container-id-2 div.sk-label:hover label.sk-toggleable__label {background-color: #d4ebff;}#sk-container-id-2 div.sk-serial::before {content: \"\";position: absolute;border-left: 1px solid gray;box-sizing: border-box;top: 0;bottom: 0;left: 50%;z-index: 0;}#sk-container-id-2 div.sk-serial {display: flex;flex-direction: column;align-items: center;background-color: white;padding-right: 0.2em;padding-left: 0.2em;position: relative;}#sk-container-id-2 div.sk-item {position: relative;z-index: 1;}#sk-container-id-2 div.sk-parallel {display: flex;align-items: stretch;justify-content: center;background-color: white;position: relative;}#sk-container-id-2 div.sk-item::before, #sk-container-id-2 div.sk-parallel-item::before {content: \"\";position: absolute;border-left: 1px solid gray;box-sizing: border-box;top: 0;bottom: 0;left: 50%;z-index: -1;}#sk-container-id-2 div.sk-parallel-item {display: flex;flex-direction: column;z-index: 1;position: relative;background-color: white;}#sk-container-id-2 div.sk-parallel-item:first-child::after {align-self: flex-end;width: 50%;}#sk-container-id-2 div.sk-parallel-item:last-child::after {align-self: flex-start;width: 50%;}#sk-container-id-2 div.sk-parallel-item:only-child::after {width: 0;}#sk-container-id-2 div.sk-dashed-wrapped {border: 1px dashed gray;margin: 0 0.4em 0.5em 0.4em;box-sizing: border-box;padding-bottom: 0.4em;background-color: white;}#sk-container-id-2 div.sk-label label {font-family: monospace;font-weight: bold;display: inline-block;line-height: 1.2em;}#sk-container-id-2 div.sk-label-container {text-align: center;}#sk-container-id-2 div.sk-container {/* jupyter's `normalize.less` sets `[hidden] { display: none; }` but bootstrap.min.css set `[hidden] { display: none !important; }` so we also need the `!important` here to be able to override the default hidden behavior on the sphinx rendered scikit-learn.org. See: https://github.com/scikit-learn/scikit-learn/issues/21755 */display: inline-block !important;position: relative;}#sk-container-id-2 div.sk-text-repr-fallback {display: none;}</style><div id=\"sk-container-id-2\" class=\"sk-top-container\"><div class=\"sk-text-repr-fallback\"><pre>LinearRegression()</pre><b>In a Jupyter environment, please rerun this cell to show the HTML representation or trust the notebook. <br />On GitHub, the HTML representation is unable to render, please try loading this page with nbviewer.org.</b></div><div class=\"sk-container\" hidden><div class=\"sk-item\"><div class=\"sk-estimator sk-toggleable\"><input class=\"sk-toggleable__control sk-hidden--visually\" id=\"sk-estimator-id-2\" type=\"checkbox\" checked><label for=\"sk-estimator-id-2\" class=\"sk-toggleable__label sk-toggleable__label-arrow\">LinearRegression</label><div class=\"sk-toggleable__content\"><pre>LinearRegression()</pre></div></div></div></div></div>"
      ],
      "text/plain": [
       "LinearRegression()"
      ]
     },
     "execution_count": 55,
     "metadata": {},
     "output_type": "execute_result"
    }
   ],
   "source": [
    "modelMulLR1 = LinearRegression()\n",
    "modelMulLR1.fit(xtrain , ytrain.values.ravel())"
   ]
  },
  {
   "cell_type": "code",
   "execution_count": 56,
   "metadata": {},
   "outputs": [
    {
     "data": {
      "text/plain": [
       "69.53741892732671"
      ]
     },
     "execution_count": 56,
     "metadata": {},
     "output_type": "execute_result"
    }
   ],
   "source": [
    "#prb\n",
    "\n",
    "modelMulLR1.intercept_# prb If coef 3(Theta1,Theta2,theta3),then intercept should b 3?? "
   ]
  },
  {
   "cell_type": "code",
   "execution_count": 57,
   "metadata": {},
   "outputs": [
    {
     "data": {
      "text/plain": [
       "array([12.0361132 ,  5.48464928,  8.64096118])"
      ]
     },
     "execution_count": 57,
     "metadata": {},
     "output_type": "execute_result"
    }
   ],
   "source": [
    "modelMulLR1.coef_"
   ]
  },
  {
   "cell_type": "code",
   "execution_count": 58,
   "metadata": {},
   "outputs": [
    {
     "name": "stdout",
     "output_type": "stream",
     "text": [
      "AVG Mean Absolute Error:  17.088547401405325\n",
      "Mean Squared Error:  575.8397651491647\n",
      "R2Score ,cal  % Error:   0.8561302021045729\n"
     ]
    }
   ],
   "source": [
    "#Now Evaluate model that how much correctly work our prediction \n",
    "#Prediction\n",
    "ypred = modelMulLR1.predict(xtest)#Gave all 3 cols\n",
    "\n",
    "print('AVG Mean Absolute Error: ' , mean_absolute_error(ytest , ypred))#mean_absolute_error take 2 paramtr,1 is y_true means ytest\n",
    "print('Mean Squared Error: ' , mean_squared_error(ytest , ypred))\n",
    "print('R2Score ,cal  % Error:  ' , r2_score(ytest , ypred))"
   ]
  },
  {
   "cell_type": "code",
   "execution_count": 59,
   "metadata": {},
   "outputs": [
    {
     "name": "stdout",
     "output_type": "stream",
     "text": [
      "====================================\n",
      "AVG Mean Absolute Error:  16.108225095604656\n",
      "Mean Squared Error:  547.0541114743631\n",
      "R2Score ,cal  % Error:   0.8677191577518629\n",
      "====================================\n",
      "AVG Mean Absolute Error:  23.705397402575077\n",
      "Mean Squared Error:  1069.4632921198686\n",
      "R2Score ,cal  % Error:   0.7688497128196293\n",
      "====================================\n",
      "AVG Mean Absolute Error:  16.481141302533242\n",
      "Mean Squared Error:  460.5269190483797\n",
      "R2Score ,cal  % Error:   0.867643981477763\n",
      "====================================\n",
      "AVG Mean Absolute Error:  14.155874489031316\n",
      "Mean Squared Error:  371.64820797878446\n",
      "R2Score ,cal  % Error:   0.8874419256859027\n"
     ]
    }
   ],
   "source": [
    "#prb\n",
    "\n",
    "from sklearn.model_selection import KFold#it will do Kfold through index,and split train & test through that index\n",
    "\n",
    "#Predict accuracy\n",
    "accuracy = []\n",
    "\n",
    "folds = KFold(n_splits=4)\n",
    "#folds.split(feature)#It will provide generator object so we need to access through next\n",
    "#next(folds.split(feature))#bUT WE WILL ACCESS through for loop\n",
    "for train_index , test_index in folds.split(feature):#  we can provide also target\n",
    "    #print(train_index ,test_index)#WE will provide this training and testing set to our data\n",
    "        #Extracting Data\n",
    "    xtrain = feature.iloc[train_index]\n",
    "    ytrain = target.iloc[train_index]\n",
    "\n",
    "    xtest = feature.iloc[test_index]\n",
    "    ytest = target.iloc[test_index]\n",
    "\n",
    "    #Modeling\n",
    "    modelMulLR2 = LinearRegression()\n",
    "    modelMulLR2.fit(xtrain , ytrain)\n",
    "\n",
    "    #Evaluation\n",
    "    #Prediction\n",
    "    print('====================================')\n",
    "    ypred = modelMulLR2.predict(xtest)\n",
    "\n",
    "    print('AVG Mean Absolute Error: ' , mean_absolute_error(ytest , ypred))#mean_absolute_error take 2 paramtr,1 is y_true means ytest\n",
    "    print('Mean Squared Error: ' , mean_squared_error(ytest , ypred))\n",
    "    print('R2Score ,cal  % Error:  ' , r2_score(ytest , ypred))\n",
    "\n",
    "    accuracy.append(r2_score(ytest , ypred))\n",
    "  \n"
   ]
  },
  {
   "cell_type": "code",
   "execution_count": 64,
   "metadata": {},
   "outputs": [
    {
     "name": "stdout",
     "output_type": "stream",
     "text": [
      "Average R2 Score 0.3391654777735158\n",
      "     CO2EMISSIONS\n",
      "801           196\n",
      "802           191\n",
      "803           184\n",
      "804           191\n",
      "805           184\n",
      "806           191\n",
      "     ENGINESIZE  CYLINDERS  FUELCONSUMPTION_CITY\n",
      "801         1.6          4                   9.3\n",
      "802         1.6          4                   9.3\n",
      "803         1.6          4                   9.1\n",
      "804         1.6          4                   9.3\n",
      "[[191.29253458]\n",
      " [191.29253458]\n",
      " [189.76511776]\n",
      " [191.29253458]\n",
      " [189.76511776]\n",
      " [191.29253458]]\n"
     ]
    }
   ],
   "source": [
    "print('Average R2 Score' , sum(accuracy)/10)\n",
    "print(ytest.iloc[:6])#Actual CO2EMOSSION\n",
    "print(xtest[:4])\n",
    "print(ypred[:6])#Our predicted CO2EMISSION"
   ]
  },
  {
   "cell_type": "code",
   "execution_count": 65,
   "metadata": {},
   "outputs": [
    {
     "data": {
      "text/plain": [
       "(array([0.92026691, 0.84939559, 0.73940185, 0.83232468, 0.81342395,\n",
       "        0.82255311, 0.88161856, 0.88799364, 0.9137904 , 0.86623948]),\n",
       " 0.8527008169436309)"
      ]
     },
     "execution_count": 65,
     "metadata": {},
     "output_type": "execute_result"
    }
   ],
   "source": [
    "#Cross validation another way\n",
    "from sklearn.model_selection import cross_val_score\n",
    "cvModel = LinearRegression()\n",
    "cv = cross_val_score(cvModel,feature,target , cv=10) #cv 10 folds\n",
    "cv, cv.mean()#Average R2Score "
   ]
  },
  {
   "cell_type": "code",
   "execution_count": 66,
   "metadata": {},
   "outputs": [
    {
     "data": {
      "text/html": [
       "<style>#sk-container-id-3 {color: black;background-color: white;}#sk-container-id-3 pre{padding: 0;}#sk-container-id-3 div.sk-toggleable {background-color: white;}#sk-container-id-3 label.sk-toggleable__label {cursor: pointer;display: block;width: 100%;margin-bottom: 0;padding: 0.3em;box-sizing: border-box;text-align: center;}#sk-container-id-3 label.sk-toggleable__label-arrow:before {content: \"▸\";float: left;margin-right: 0.25em;color: #696969;}#sk-container-id-3 label.sk-toggleable__label-arrow:hover:before {color: black;}#sk-container-id-3 div.sk-estimator:hover label.sk-toggleable__label-arrow:before {color: black;}#sk-container-id-3 div.sk-toggleable__content {max-height: 0;max-width: 0;overflow: hidden;text-align: left;background-color: #f0f8ff;}#sk-container-id-3 div.sk-toggleable__content pre {margin: 0.2em;color: black;border-radius: 0.25em;background-color: #f0f8ff;}#sk-container-id-3 input.sk-toggleable__control:checked~div.sk-toggleable__content {max-height: 200px;max-width: 100%;overflow: auto;}#sk-container-id-3 input.sk-toggleable__control:checked~label.sk-toggleable__label-arrow:before {content: \"▾\";}#sk-container-id-3 div.sk-estimator input.sk-toggleable__control:checked~label.sk-toggleable__label {background-color: #d4ebff;}#sk-container-id-3 div.sk-label input.sk-toggleable__control:checked~label.sk-toggleable__label {background-color: #d4ebff;}#sk-container-id-3 input.sk-hidden--visually {border: 0;clip: rect(1px 1px 1px 1px);clip: rect(1px, 1px, 1px, 1px);height: 1px;margin: -1px;overflow: hidden;padding: 0;position: absolute;width: 1px;}#sk-container-id-3 div.sk-estimator {font-family: monospace;background-color: #f0f8ff;border: 1px dotted black;border-radius: 0.25em;box-sizing: border-box;margin-bottom: 0.5em;}#sk-container-id-3 div.sk-estimator:hover {background-color: #d4ebff;}#sk-container-id-3 div.sk-parallel-item::after {content: \"\";width: 100%;border-bottom: 1px solid gray;flex-grow: 1;}#sk-container-id-3 div.sk-label:hover label.sk-toggleable__label {background-color: #d4ebff;}#sk-container-id-3 div.sk-serial::before {content: \"\";position: absolute;border-left: 1px solid gray;box-sizing: border-box;top: 0;bottom: 0;left: 50%;z-index: 0;}#sk-container-id-3 div.sk-serial {display: flex;flex-direction: column;align-items: center;background-color: white;padding-right: 0.2em;padding-left: 0.2em;position: relative;}#sk-container-id-3 div.sk-item {position: relative;z-index: 1;}#sk-container-id-3 div.sk-parallel {display: flex;align-items: stretch;justify-content: center;background-color: white;position: relative;}#sk-container-id-3 div.sk-item::before, #sk-container-id-3 div.sk-parallel-item::before {content: \"\";position: absolute;border-left: 1px solid gray;box-sizing: border-box;top: 0;bottom: 0;left: 50%;z-index: -1;}#sk-container-id-3 div.sk-parallel-item {display: flex;flex-direction: column;z-index: 1;position: relative;background-color: white;}#sk-container-id-3 div.sk-parallel-item:first-child::after {align-self: flex-end;width: 50%;}#sk-container-id-3 div.sk-parallel-item:last-child::after {align-self: flex-start;width: 50%;}#sk-container-id-3 div.sk-parallel-item:only-child::after {width: 0;}#sk-container-id-3 div.sk-dashed-wrapped {border: 1px dashed gray;margin: 0 0.4em 0.5em 0.4em;box-sizing: border-box;padding-bottom: 0.4em;background-color: white;}#sk-container-id-3 div.sk-label label {font-family: monospace;font-weight: bold;display: inline-block;line-height: 1.2em;}#sk-container-id-3 div.sk-label-container {text-align: center;}#sk-container-id-3 div.sk-container {/* jupyter's `normalize.less` sets `[hidden] { display: none; }` but bootstrap.min.css set `[hidden] { display: none !important; }` so we also need the `!important` here to be able to override the default hidden behavior on the sphinx rendered scikit-learn.org. See: https://github.com/scikit-learn/scikit-learn/issues/21755 */display: inline-block !important;position: relative;}#sk-container-id-3 div.sk-text-repr-fallback {display: none;}</style><div id=\"sk-container-id-3\" class=\"sk-top-container\"><div class=\"sk-text-repr-fallback\"><pre>LinearRegression()</pre><b>In a Jupyter environment, please rerun this cell to show the HTML representation or trust the notebook. <br />On GitHub, the HTML representation is unable to render, please try loading this page with nbviewer.org.</b></div><div class=\"sk-container\" hidden><div class=\"sk-item\"><div class=\"sk-estimator sk-toggleable\"><input class=\"sk-toggleable__control sk-hidden--visually\" id=\"sk-estimator-id-3\" type=\"checkbox\" checked><label for=\"sk-estimator-id-3\" class=\"sk-toggleable__label sk-toggleable__label-arrow\">LinearRegression</label><div class=\"sk-toggleable__content\"><pre>LinearRegression()</pre></div></div></div></div></div>"
      ],
      "text/plain": [
       "LinearRegression()"
      ]
     },
     "execution_count": 66,
     "metadata": {},
     "output_type": "execute_result"
    }
   ],
   "source": [
    "#Model Visualization\n",
    "modelVisu1 = LinearRegression()\n",
    "modelVisu1.fit(feature[['ENGINESIZE']] , target)\n",
    "#Now our training is done"
   ]
  },
  {
   "cell_type": "code",
   "execution_count": 71,
   "metadata": {},
   "outputs": [
    {
     "data": {
      "image/png": "[encoded data removed]",
      "text/plain": [
       "<Figure size 1440x576 with 1 Axes>"
      ]
     },
     "metadata": {
      "needs_background": "light"
     },
     "output_type": "display_data"
    }
   ],
   "source": [
    "fig = plt.figure(2, figsize=(20,8))\n",
    "plt.scatter(feature[['ENGINESIZE']].values , target.values , label = 'Actual Data' , color = 'pink')\n",
    "plt.scatter(feature[['ENGINESIZE']].values , modelVisu1.predict(feature[['ENGINESIZE']]) , label = 'Predicted Data' , color = 'black')\n",
    "plt.scatter(feature[['CYLINDERS']].values , target.values , label = 'CYLINDERS' , color = 'green')\n",
    "plt.scatter(feature[['FUELCONSUMPTION_CITY']].values , target.values , label = 'FUELCONSUMPTION_CITY' , color = 'gray')\n",
    "\n",
    "plt.xlabel('ENGINESIZE')\n",
    "plt.ylabel('CO2EMISSION')\n",
    "plt.legend()\n",
    "plt.show()"
   ]
  },
  {
   "cell_type": "code",
   "execution_count": 69,
   "metadata": {},
   "outputs": [
    {
     "data": {
      "text/plain": [
       "array([[ 0.        ],\n",
       "       [ 0.02506266],\n",
       "       [ 0.05012531],\n",
       "       [ 0.07518797],\n",
       "       [ 0.10025063],\n",
       "       [ 0.12531328],\n",
       "       [ 0.15037594],\n",
       "       [ 0.1754386 ],\n",
       "       [ 0.20050125],\n",
       "       [ 0.22556391],\n",
       "       [ 0.25062657],\n",
       "       [ 0.27568922],\n",
       "       [ 0.30075188],\n",
       "       [ 0.32581454],\n",
       "       [ 0.35087719],\n",
       "       [ 0.37593985],\n",
       "       [ 0.40100251],\n",
       "       [ 0.42606516],\n",
       "       [ 0.45112782],\n",
       "       [ 0.47619048],\n",
       "       [ 0.50125313],\n",
       "       [ 0.52631579],\n",
       "       [ 0.55137845],\n",
       "       [ 0.5764411 ],\n",
       "       [ 0.60150376],\n",
       "       [ 0.62656642],\n",
       "       [ 0.65162907],\n",
       "       [ 0.67669173],\n",
       "       [ 0.70175439],\n",
       "       [ 0.72681704],\n",
       "       [ 0.7518797 ],\n",
       "       [ 0.77694236],\n",
       "       [ 0.80200501],\n",
       "       [ 0.82706767],\n",
       "       [ 0.85213033],\n",
       "       [ 0.87719298],\n",
       "       [ 0.90225564],\n",
       "       [ 0.9273183 ],\n",
       "       [ 0.95238095],\n",
       "       [ 0.97744361],\n",
       "       [ 1.00250627],\n",
       "       [ 1.02756892],\n",
       "       [ 1.05263158],\n",
       "       [ 1.07769424],\n",
       "       [ 1.10275689],\n",
       "       [ 1.12781955],\n",
       "       [ 1.15288221],\n",
       "       [ 1.17794486],\n",
       "       [ 1.20300752],\n",
       "       [ 1.22807018],\n",
       "       [ 1.25313283],\n",
       "       [ 1.27819549],\n",
       "       [ 1.30325815],\n",
       "       [ 1.3283208 ],\n",
       "       [ 1.35338346],\n",
       "       [ 1.37844612],\n",
       "       [ 1.40350877],\n",
       "       [ 1.42857143],\n",
       "       [ 1.45363409],\n",
       "       [ 1.47869674],\n",
       "       [ 1.5037594 ],\n",
       "       [ 1.52882206],\n",
       "       [ 1.55388471],\n",
       "       [ 1.57894737],\n",
       "       [ 1.60401003],\n",
       "       [ 1.62907268],\n",
       "       [ 1.65413534],\n",
       "       [ 1.67919799],\n",
       "       [ 1.70426065],\n",
       "       [ 1.72932331],\n",
       "       [ 1.75438596],\n",
       "       [ 1.77944862],\n",
       "       [ 1.80451128],\n",
       "       [ 1.82957393],\n",
       "       [ 1.85463659],\n",
       "       [ 1.87969925],\n",
       "       [ 1.9047619 ],\n",
       "       [ 1.92982456],\n",
       "       [ 1.95488722],\n",
       "       [ 1.97994987],\n",
       "       [ 2.00501253],\n",
       "       [ 2.03007519],\n",
       "       [ 2.05513784],\n",
       "       [ 2.0802005 ],\n",
       "       [ 2.10526316],\n",
       "       [ 2.13032581],\n",
       "       [ 2.15538847],\n",
       "       [ 2.18045113],\n",
       "       [ 2.20551378],\n",
       "       [ 2.23057644],\n",
       "       [ 2.2556391 ],\n",
       "       [ 2.28070175],\n",
       "       [ 2.30576441],\n",
       "       [ 2.33082707],\n",
       "       [ 2.35588972],\n",
       "       [ 2.38095238],\n",
       "       [ 2.40601504],\n",
       "       [ 2.43107769],\n",
       "       [ 2.45614035],\n",
       "       [ 2.48120301],\n",
       "       [ 2.50626566],\n",
       "       [ 2.53132832],\n",
       "       [ 2.55639098],\n",
       "       [ 2.58145363],\n",
       "       [ 2.60651629],\n",
       "       [ 2.63157895],\n",
       "       [ 2.6566416 ],\n",
       "       [ 2.68170426],\n",
       "       [ 2.70676692],\n",
       "       [ 2.73182957],\n",
       "       [ 2.75689223],\n",
       "       [ 2.78195489],\n",
       "       [ 2.80701754],\n",
       "       [ 2.8320802 ],\n",
       "       [ 2.85714286],\n",
       "       [ 2.88220551],\n",
       "       [ 2.90726817],\n",
       "       [ 2.93233083],\n",
       "       [ 2.95739348],\n",
       "       [ 2.98245614],\n",
       "       [ 3.0075188 ],\n",
       "       [ 3.03258145],\n",
       "       [ 3.05764411],\n",
       "       [ 3.08270677],\n",
       "       [ 3.10776942],\n",
       "       [ 3.13283208],\n",
       "       [ 3.15789474],\n",
       "       [ 3.18295739],\n",
       "       [ 3.20802005],\n",
       "       [ 3.23308271],\n",
       "       [ 3.25814536],\n",
       "       [ 3.28320802],\n",
       "       [ 3.30827068],\n",
       "       [ 3.33333333],\n",
       "       [ 3.35839599],\n",
       "       [ 3.38345865],\n",
       "       [ 3.4085213 ],\n",
       "       [ 3.43358396],\n",
       "       [ 3.45864662],\n",
       "       [ 3.48370927],\n",
       "       [ 3.50877193],\n",
       "       [ 3.53383459],\n",
       "       [ 3.55889724],\n",
       "       [ 3.5839599 ],\n",
       "       [ 3.60902256],\n",
       "       [ 3.63408521],\n",
       "       [ 3.65914787],\n",
       "       [ 3.68421053],\n",
       "       [ 3.70927318],\n",
       "       [ 3.73433584],\n",
       "       [ 3.7593985 ],\n",
       "       [ 3.78446115],\n",
       "       [ 3.80952381],\n",
       "       [ 3.83458647],\n",
       "       [ 3.85964912],\n",
       "       [ 3.88471178],\n",
       "       [ 3.90977444],\n",
       "       [ 3.93483709],\n",
       "       [ 3.95989975],\n",
       "       [ 3.98496241],\n",
       "       [ 4.01002506],\n",
       "       [ 4.03508772],\n",
       "       [ 4.06015038],\n",
       "       [ 4.08521303],\n",
       "       [ 4.11027569],\n",
       "       [ 4.13533835],\n",
       "       [ 4.160401  ],\n",
       "       [ 4.18546366],\n",
       "       [ 4.21052632],\n",
       "       [ 4.23558897],\n",
       "       [ 4.26065163],\n",
       "       [ 4.28571429],\n",
       "       [ 4.31077694],\n",
       "       [ 4.3358396 ],\n",
       "       [ 4.36090226],\n",
       "       [ 4.38596491],\n",
       "       [ 4.41102757],\n",
       "       [ 4.43609023],\n",
       "       [ 4.46115288],\n",
       "       [ 4.48621554],\n",
       "       [ 4.5112782 ],\n",
       "       [ 4.53634085],\n",
       "       [ 4.56140351],\n",
       "       [ 4.58646617],\n",
       "       [ 4.61152882],\n",
       "       [ 4.63659148],\n",
       "       [ 4.66165414],\n",
       "       [ 4.68671679],\n",
       "       [ 4.71177945],\n",
       "       [ 4.73684211],\n",
       "       [ 4.76190476],\n",
       "       [ 4.78696742],\n",
       "       [ 4.81203008],\n",
       "       [ 4.83709273],\n",
       "       [ 4.86215539],\n",
       "       [ 4.88721805],\n",
       "       [ 4.9122807 ],\n",
       "       [ 4.93734336],\n",
       "       [ 4.96240602],\n",
       "       [ 4.98746867],\n",
       "       [ 5.01253133],\n",
       "       [ 5.03759398],\n",
       "       [ 5.06265664],\n",
       "       [ 5.0877193 ],\n",
       "       [ 5.11278195],\n",
       "       [ 5.13784461],\n",
       "       [ 5.16290727],\n",
       "       [ 5.18796992],\n",
       "       [ 5.21303258],\n",
       "       [ 5.23809524],\n",
       "       [ 5.26315789],\n",
       "       [ 5.28822055],\n",
       "       [ 5.31328321],\n",
       "       [ 5.33834586],\n",
       "       [ 5.36340852],\n",
       "       [ 5.38847118],\n",
       "       [ 5.41353383],\n",
       "       [ 5.43859649],\n",
       "       [ 5.46365915],\n",
       "       [ 5.4887218 ],\n",
       "       [ 5.51378446],\n",
       "       [ 5.53884712],\n",
       "       [ 5.56390977],\n",
       "       [ 5.58897243],\n",
       "       [ 5.61403509],\n",
       "       [ 5.63909774],\n",
       "       [ 5.6641604 ],\n",
       "       [ 5.68922306],\n",
       "       [ 5.71428571],\n",
       "       [ 5.73934837],\n",
       "       [ 5.76441103],\n",
       "       [ 5.78947368],\n",
       "       [ 5.81453634],\n",
       "       [ 5.839599  ],\n",
       "       [ 5.86466165],\n",
       "       [ 5.88972431],\n",
       "       [ 5.91478697],\n",
       "       [ 5.93984962],\n",
       "       [ 5.96491228],\n",
       "       [ 5.98997494],\n",
       "       [ 6.01503759],\n",
       "       [ 6.04010025],\n",
       "       [ 6.06516291],\n",
       "       [ 6.09022556],\n",
       "       [ 6.11528822],\n",
       "       [ 6.14035088],\n",
       "       [ 6.16541353],\n",
       "       [ 6.19047619],\n",
       "       [ 6.21553885],\n",
       "       [ 6.2406015 ],\n",
       "       [ 6.26566416],\n",
       "       [ 6.29072682],\n",
       "       [ 6.31578947],\n",
       "       [ 6.34085213],\n",
       "       [ 6.36591479],\n",
       "       [ 6.39097744],\n",
       "       [ 6.4160401 ],\n",
       "       [ 6.44110276],\n",
       "       [ 6.46616541],\n",
       "       [ 6.49122807],\n",
       "       [ 6.51629073],\n",
       "       [ 6.54135338],\n",
       "       [ 6.56641604],\n",
       "       [ 6.5914787 ],\n",
       "       [ 6.61654135],\n",
       "       [ 6.64160401],\n",
       "       [ 6.66666667],\n",
       "       [ 6.69172932],\n",
       "       [ 6.71679198],\n",
       "       [ 6.74185464],\n",
       "       [ 6.76691729],\n",
       "       [ 6.79197995],\n",
       "       [ 6.81704261],\n",
       "       [ 6.84210526],\n",
       "       [ 6.86716792],\n",
       "       [ 6.89223058],\n",
       "       [ 6.91729323],\n",
       "       [ 6.94235589],\n",
       "       [ 6.96741855],\n",
       "       [ 6.9924812 ],\n",
       "       [ 7.01754386],\n",
       "       [ 7.04260652],\n",
       "       [ 7.06766917],\n",
       "       [ 7.09273183],\n",
       "       [ 7.11779449],\n",
       "       [ 7.14285714],\n",
       "       [ 7.1679198 ],\n",
       "       [ 7.19298246],\n",
       "       [ 7.21804511],\n",
       "       [ 7.24310777],\n",
       "       [ 7.26817043],\n",
       "       [ 7.29323308],\n",
       "       [ 7.31829574],\n",
       "       [ 7.3433584 ],\n",
       "       [ 7.36842105],\n",
       "       [ 7.39348371],\n",
       "       [ 7.41854637],\n",
       "       [ 7.44360902],\n",
       "       [ 7.46867168],\n",
       "       [ 7.49373434],\n",
       "       [ 7.51879699],\n",
       "       [ 7.54385965],\n",
       "       [ 7.56892231],\n",
       "       [ 7.59398496],\n",
       "       [ 7.61904762],\n",
       "       [ 7.64411028],\n",
       "       [ 7.66917293],\n",
       "       [ 7.69423559],\n",
       "       [ 7.71929825],\n",
       "       [ 7.7443609 ],\n",
       "       [ 7.76942356],\n",
       "       [ 7.79448622],\n",
       "       [ 7.81954887],\n",
       "       [ 7.84461153],\n",
       "       [ 7.86967419],\n",
       "       [ 7.89473684],\n",
       "       [ 7.9197995 ],\n",
       "       [ 7.94486216],\n",
       "       [ 7.96992481],\n",
       "       [ 7.99498747],\n",
       "       [ 8.02005013],\n",
       "       [ 8.04511278],\n",
       "       [ 8.07017544],\n",
       "       [ 8.0952381 ],\n",
       "       [ 8.12030075],\n",
       "       [ 8.14536341],\n",
       "       [ 8.17042607],\n",
       "       [ 8.19548872],\n",
       "       [ 8.22055138],\n",
       "       [ 8.24561404],\n",
       "       [ 8.27067669],\n",
       "       [ 8.29573935],\n",
       "       [ 8.32080201],\n",
       "       [ 8.34586466],\n",
       "       [ 8.37092732],\n",
       "       [ 8.39598997],\n",
       "       [ 8.42105263],\n",
       "       [ 8.44611529],\n",
       "       [ 8.47117794],\n",
       "       [ 8.4962406 ],\n",
       "       [ 8.52130326],\n",
       "       [ 8.54636591],\n",
       "       [ 8.57142857],\n",
       "       [ 8.59649123],\n",
       "       [ 8.62155388],\n",
       "       [ 8.64661654],\n",
       "       [ 8.6716792 ],\n",
       "       [ 8.69674185],\n",
       "       [ 8.72180451],\n",
       "       [ 8.74686717],\n",
       "       [ 8.77192982],\n",
       "       [ 8.79699248],\n",
       "       [ 8.82205514],\n",
       "       [ 8.84711779],\n",
       "       [ 8.87218045],\n",
       "       [ 8.89724311],\n",
       "       [ 8.92230576],\n",
       "       [ 8.94736842],\n",
       "       [ 8.97243108],\n",
       "       [ 8.99749373],\n",
       "       [ 9.02255639],\n",
       "       [ 9.04761905],\n",
       "       [ 9.0726817 ],\n",
       "       [ 9.09774436],\n",
       "       [ 9.12280702],\n",
       "       [ 9.14786967],\n",
       "       [ 9.17293233],\n",
       "       [ 9.19799499],\n",
       "       [ 9.22305764],\n",
       "       [ 9.2481203 ],\n",
       "       [ 9.27318296],\n",
       "       [ 9.29824561],\n",
       "       [ 9.32330827],\n",
       "       [ 9.34837093],\n",
       "       [ 9.37343358],\n",
       "       [ 9.39849624],\n",
       "       [ 9.4235589 ],\n",
       "       [ 9.44862155],\n",
       "       [ 9.47368421],\n",
       "       [ 9.49874687],\n",
       "       [ 9.52380952],\n",
       "       [ 9.54887218],\n",
       "       [ 9.57393484],\n",
       "       [ 9.59899749],\n",
       "       [ 9.62406015],\n",
       "       [ 9.64912281],\n",
       "       [ 9.67418546],\n",
       "       [ 9.69924812],\n",
       "       [ 9.72431078],\n",
       "       [ 9.74937343],\n",
       "       [ 9.77443609],\n",
       "       [ 9.79949875],\n",
       "       [ 9.8245614 ],\n",
       "       [ 9.84962406],\n",
       "       [ 9.87468672],\n",
       "       [ 9.89974937],\n",
       "       [ 9.92481203],\n",
       "       [ 9.94987469],\n",
       "       [ 9.97493734],\n",
       "       [10.        ]])"
      ]
     },
     "execution_count": 69,
     "metadata": {},
     "output_type": "execute_result"
    }
   ],
   "source": [
    "dummyFeature = np.linspace(0,10,400).reshape(-1,1)#Now its 2D array\n",
    "dummyFeature"
   ]
  },
  {
   "cell_type": "code",
   "execution_count": 74,
   "metadata": {},
   "outputs": [
    {
     "name": "stderr",
     "output_type": "stream",
     "text": [
      "c:\\python3.10.5\\lib\\site-packages\\sklearn\\base.py:450: UserWarning: X does not have valid feature names, but LinearRegression was fitted with feature names\n",
      "  warnings.warn(\n"
     ]
    },
    {
     "data": {
      "image/png": "[encoded data removed]",
      "text/plain": [
       "<Figure size 1440x576 with 1 Axes>"
      ]
     },
     "metadata": {
      "needs_background": "light"
     },
     "output_type": "display_data"
    }
   ],
   "source": [
    "#prb\n",
    "\n",
    "#We do here lineplot\n",
    "fig = plt.figure(2, figsize=(20,8))\n",
    "plt.scatter(feature[['ENGINESIZE']].values , target.values , label = 'Actual Data' , color = 'pink')\n",
    "plt.plot(dummyFeature , modelVisu1.predict(dummyFeature) , label = 'Predicted Data' , color = 'black')#How does it plot ,x ==2 y==3,should be 200/300\n",
    "plt.xlabel('ENGINESIZE')\n",
    "plt.ylabel('CO2EMISSION')\n",
    "plt.legend()\n",
    "plt.show()"
   ]
  },
  {
   "cell_type": "code",
   "execution_count": 75,
   "metadata": {},
   "outputs": [],
   "source": [
    "#3D\n",
    "dummyFeature1 = np.linspace(0,10,400)\n",
    "dummyFeature2 = np.linspace(4,31,400)\n",
    "#Without reshape we can concatinate both dummyfeature as 2 cols.2now separated,so we need to put both in a table\n",
    "dumFea = np.c_[dummyFeature1,dummyFeature2]#Concatinate both feature\n",
    "#feature[[feature.columns[-1]]].min()#To see FUELCONSUMPTION_CITY colums max and min value"
   ]
  },
  {
   "cell_type": "code",
   "execution_count": 76,
   "metadata": {},
   "outputs": [
    {
     "data": {
      "text/plain": [
       "[[Index(['ENGINESIZE', 'FUELCONSUMPTION_CITY'], dtype='object')]]"
      ]
     },
     "execution_count": 76,
     "metadata": {},
     "output_type": "execute_result"
    }
   ],
   "source": [
    "[[feature.columns[0:3:2]]]#Just show"
   ]
  },
  {
   "cell_type": "code",
   "execution_count": 77,
   "metadata": {},
   "outputs": [
    {
     "name": "stderr",
     "output_type": "stream",
     "text": [
      "c:\\python3.10.5\\lib\\site-packages\\sklearn\\base.py:450: UserWarning: X does not have valid feature names, but LinearRegression was fitted with feature names\n",
      "  warnings.warn(\n"
     ]
    },
    {
     "data": {
      "image/png": "[encoded data removed]",
      "text/plain": [
       "<Figure size 1800x864 with 1 Axes>"
      ]
     },
     "metadata": {
      "needs_background": "light"
     },
     "output_type": "display_data"
    }
   ],
   "source": [
    "#model3DVis1 = LinearRegression().fit([[feature.columns[0:3:2]]],target)\n",
    "model3DVis1 = LinearRegression().fit(\n",
    "    feature[['ENGINESIZE', 'FUELCONSUMPTION_CITY']], target)\n",
    "\n",
    "fig = plt.figure(1, figsize=(25, 12))  # 1st we have to generate figure\n",
    "axes = plt.axes(projection='3d')\n",
    "\n",
    "axes.scatter3D(feature[['ENGINESIZE']], feature[[\n",
    "               'FUELCONSUMPTION_CITY']], target, label='Actual Data', color='pink')\n",
    "axes.plot3D(dummyFeature1, dummyFeature2, model3DVis1.predict(dumFea).ravel(\n",
    "), label='Predicted data', color='black')  # may b predicted value return as 2D,so we need to ravel\n",
    "\n",
    "axes.legend()\n",
    "axes.set_xlabel('EngineSize')\n",
    "axes.set_ylabel('Fuel Consumption City')\n",
    "axes.set_zlabel('CO2EMISSION')\n",
    "plt.show()\n"
   ]
  },
  {
   "cell_type": "code",
   "execution_count": 78,
   "metadata": {},
   "outputs": [
    {
     "data": {
      "text/plain": [
       "['VizualizationModel']"
      ]
     },
     "execution_count": 78,
     "metadata": {},
     "output_type": "execute_result"
    }
   ],
   "source": [
    "#Saving Model\n",
    "from joblib import dump\n",
    "dump(modelVisu1 , 'VizualizationModel')"
   ]
  },
  {
   "cell_type": "code",
   "execution_count": 79,
   "metadata": {},
   "outputs": [],
   "source": [
    "#If we want import and predict this model\n",
    "from joblib import load\n",
    "modell =load('VizualizationModel')"
   ]
  },
  {
   "cell_type": "code",
   "execution_count": 80,
   "metadata": {},
   "outputs": [
    {
     "data": {
      "text/plain": [
       "array([[203.55449907],\n",
       "       [219.20457898],\n",
       "       [183.99189918],\n",
       "       ...,\n",
       "       [242.67969886],\n",
       "       [250.50473881],\n",
       "       [250.50473881]])"
      ]
     },
     "execution_count": 80,
     "metadata": {},
     "output_type": "execute_result"
    }
   ],
   "source": [
    "modell.predict(feature[['ENGINESIZE']])"
   ]
  },
  {
   "cell_type": "markdown",
   "metadata": {},
   "source": [
    "# Control c for shutdown terminal"
   ]
  }
 ],
 "metadata": {
  "kernelspec": {
   "display_name": "Python 3.10.5 64-bit",
   "language": "python",
   "name": "python3"
  },
  "language_info": {
   "codemirror_mode": {
    "name": "ipython",
    "version": 3
   },
   "file_extension": ".py",
   "mimetype": "text/x-python",
   "name": "python",
   "nbconvert_exporter": "python",
   "pygments_lexer": "ipython3",
   "version": "3.10.5"
  },
  "vscode": {
   "interpreter": {
    "hash": "d68e442367879204e0a7bf2d334cb40b49caea16ad4b3910ab3fb167f0e369e2"
   }
  }
 },
 "nbformat": 4,
 "nbformat_minor": 2
}
