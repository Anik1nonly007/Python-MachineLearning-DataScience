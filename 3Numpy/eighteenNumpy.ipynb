{
 "cells": [
  {
   "cell_type": "code",
   "execution_count": 1,
   "metadata": {},
   "outputs": [
    {
     "name": "stdout",
     "output_type": "stream",
     "text": [
      "Requirement already satisfied: numpy in c:\\python3.10.4\\lib\\site-packages (1.22.4)\n"
     ]
    },
    {
     "name": "stderr",
     "output_type": "stream",
     "text": [
      "WARNING: You are using pip version 22.0.4; however, version 22.1.2 is available.\n",
      "You should consider upgrading via the 'C:\\Python3.10.4\\python.exe -m pip install --upgrade pip' command.\n"
     ]
    }
   ],
   "source": [
    "! pip install numpy"
   ]
  },
  {
   "cell_type": "code",
   "execution_count": 2,
   "metadata": {},
   "outputs": [
    {
     "data": {
      "text/plain": [
       "'1.22.4'"
      ]
     },
     "execution_count": 2,
     "metadata": {},
     "output_type": "execute_result"
    }
   ],
   "source": [
    "import numpy as np\n",
    "np.__version__"
   ]
  },
  {
   "cell_type": "code",
   "execution_count": 3,
   "metadata": {},
   "outputs": [
    {
     "data": {
      "text/plain": [
       "array([ 1.,  2.,  3.,  4.,  5.,  6.,  7.,  8.,  9., 10., 11., 12., 13.,\n",
       "       14., 15., 16., 17., 18., 19., 20., 21., 22., 23., 24., 25., 26.,\n",
       "       27.])"
      ]
     },
     "execution_count": 3,
     "metadata": {},
     "output_type": "execute_result"
    }
   ],
   "source": [
    "#1D\n",
    "#range(4)\n",
    "#np.arange(1,12)\n",
    "npArray = np.arange(1,28 , dtype=np.float64) #arrange func gave 1D array, 1 to 10 data and datatype will be float\n",
    "npArray.ndim #show dimention ,1dim array\n",
    "npArray.dtype #given datatype output float\n",
    "npArray.shape #show number of rows,11 rows\n",
    "\n",
    "#npArray.reshape(2,5).ndim #given 2 by 5 matrix ,ndim: 2 dimention\n",
    "#npArray.reshape(2,5).shape#shape of data 2 rows 5 colums\n",
    "npArray.reshape(3 , 3 , 3).ndim\n",
    "npArray.size #number of element\n",
    "npArray.itemsize*npArray.size #8 byte for float64, 4 byte for integer\n",
    "npArray\n"
   ]
  },
  {
   "cell_type": "code",
   "execution_count": 4,
   "metadata": {},
   "outputs": [
    {
     "data": {
      "text/plain": [
       "array([  1.,   2., 100.,   4.,   5.,   6.,   7.,   8.,   9.,  10.,  11.,\n",
       "        12.,  13.,  14.,  15.,  16.,  17.,  18.,  19.,  20.,  21.,  22.,\n",
       "        23.,  24.,  25.,  26.,  27.])"
      ]
     },
     "execution_count": 4,
     "metadata": {},
     "output_type": "execute_result"
    }
   ],
   "source": [
    "npArray[2:6:2]#slicing\n",
    "npArray[2]=100 #value update\n",
    "npArray"
   ]
  },
  {
   "cell_type": "code",
   "execution_count": 11,
   "metadata": {},
   "outputs": [
    {
     "data": {
      "text/plain": [
       "array([[1, 2, 3],\n",
       "       [4, 5, 6],\n",
       "       [7, 7, 7]])"
      ]
     },
     "execution_count": 11,
     "metadata": {},
     "output_type": "execute_result"
    }
   ],
   "source": [
    "#2D\n",
    "ar2D = np.array( [ [ 1 , 2 , 3 ] , [ 4 , 5 , 6 ] , [ 7 , 7, 7 ] ] )\n",
    "a2=ar2D[1][0]#indexing output 4   \n",
    "a2=ar2D[1,1]#indexing 2nd way\n",
    "a2\n",
    "ar2D\n"
   ]
  },
  {
   "cell_type": "code",
   "execution_count": 16,
   "metadata": {},
   "outputs": [
    {
     "data": {
      "text/plain": [
       "array([[5]])"
      ]
     },
     "execution_count": 16,
     "metadata": {},
     "output_type": "execute_result"
    }
   ],
   "source": [
    "num=1,2,3,4,5,6\n",
    "num[:4]\n",
    "num[2::]\n",
    "\n",
    "ar2D[1:2:2,1:2:2]#rows lower boundary,higher boundary,steps.after comma colum low,high,steps \n",
    "ar2D[2:,2]#output 13\n",
    "ar2D[0:1,0]#output 1,4"
   ]
  },
  {
   "cell_type": "code",
   "execution_count": 19,
   "metadata": {},
   "outputs": [
    {
     "data": {
      "text/plain": [
       "array([[[  1.,   2., 100.],\n",
       "        [  4.,   5.,   6.],\n",
       "        [  7.,   8.,   9.]],\n",
       "\n",
       "       [[ 10.,  11.,  12.],\n",
       "        [ 13.,  14.,  15.],\n",
       "        [ 16.,  17.,  18.]],\n",
       "\n",
       "       [[ 19.,  20.,  21.],\n",
       "        [ 22.,  23.,  24.],\n",
       "        [ 25.,  26.,  27.]]])"
      ]
     },
     "execution_count": 19,
     "metadata": {},
     "output_type": "execute_result"
    }
   ],
   "source": [
    "#3D\n",
    "\n",
    "ar3D=npArray.reshape(3 , 3 , 3)\n",
    "a3=ar3D[0,0,0]#output 1st matrix 1st row 1st col value\n",
    "ar3D\n"
   ]
  },
  {
   "cell_type": "code",
   "execution_count": 26,
   "metadata": {},
   "outputs": [
    {
     "data": {
      "text/plain": [
       "array([[  1.,   2., 100.],\n",
       "       [ 10.,  11.,  12.],\n",
       "       [ 19.,  20.,  21.]])"
      ]
     },
     "execution_count": 26,
     "metadata": {},
     "output_type": "execute_result"
    }
   ],
   "source": [
    "ar3D[:,:,0:]\n",
    "ar3D[:,0,0] #output array([ 1., 10., 19.])\n",
    "ar3D[:,0,:] #output all matrix 1st row"
   ]
  },
  {
   "cell_type": "code",
   "execution_count": 11,
   "metadata": {},
   "outputs": [
    {
     "data": {
      "text/plain": [
       "array([[  1.,   2., 100.],\n",
       "       [ 10.,  11.,  12.],\n",
       "       [ 19.,  20.,  21.]])"
      ]
     },
     "execution_count": 11,
     "metadata": {},
     "output_type": "execute_result"
    }
   ],
   "source": [
    "#sometimes we need to create dummy array so we need numpy\n",
    "#functions for array \n",
    "np.empty((3,3))#randomly generate 3 by 3 matrix"
   ]
  },
  {
   "cell_type": "code",
   "execution_count": 12,
   "metadata": {},
   "outputs": [
    {
     "data": {
      "text/plain": [
       "array([[1., 1., 1.],\n",
       "       [1., 1., 1.],\n",
       "       [1., 1., 1.]])"
      ]
     },
     "execution_count": 12,
     "metadata": {},
     "output_type": "execute_result"
    }
   ],
   "source": [
    "np.ones((3,3))#randomly generate 1 values 3 by 3 matrix "
   ]
  },
  {
   "cell_type": "code",
   "execution_count": 13,
   "metadata": {},
   "outputs": [
    {
     "data": {
      "text/plain": [
       "array([[0., 0., 0.],\n",
       "       [0., 0., 0.],\n",
       "       [0., 0., 0.]])"
      ]
     },
     "execution_count": 13,
     "metadata": {},
     "output_type": "execute_result"
    }
   ],
   "source": [
    "np.zeros((3,3))"
   ]
  },
  {
   "cell_type": "code",
   "execution_count": 14,
   "metadata": {},
   "outputs": [
    {
     "data": {
      "text/plain": [
       "array([[1., 0., 0.],\n",
       "       [0., 1., 0.],\n",
       "       [0., 0., 1.]])"
      ]
     },
     "execution_count": 14,
     "metadata": {},
     "output_type": "execute_result"
    }
   ],
   "source": [
    "#identity metrix ,diagonally create data\n",
    "np.eye(3,3)# provide as a argument thats why not needed brackets"
   ]
  },
  {
   "cell_type": "code",
   "execution_count": 18,
   "metadata": {},
   "outputs": [
    {
     "data": {
      "text/plain": [
       "100.0"
      ]
     },
     "execution_count": 18,
     "metadata": {},
     "output_type": "execute_result"
    }
   ],
   "source": [
    "npArray.mean()\n",
    "npArray.std()\n",
    "npArray.var()\n",
    "npArray.sum()\n",
    "npArray.sort()\n",
    "npArray\n",
    "npArray.min()#Return min value\n",
    "npArray.max()\n",
    "#npArray.mode()"
   ]
  },
  {
   "cell_type": "code",
   "execution_count": 17,
   "metadata": {},
   "outputs": [
    {
     "data": {
      "text/plain": [
       "array(329.4045584)"
      ]
     },
     "execution_count": 17,
     "metadata": {},
     "output_type": "execute_result"
    }
   ],
   "source": [
    "np.cov((npArray))\n",
    "np.median(npArray)\n",
    "#np.mode((npArray))# prb how to find mode\n",
    "npArray\n",
    "np.cov((npArray))# prb not same result "
   ]
  },
  {
   "cell_type": "code",
   "execution_count": 19,
   "metadata": {},
   "outputs": [
    {
     "data": {
      "text/plain": [
       "array([[1, 2, 3],\n",
       "       [4, 5, 6],\n",
       "       [7, 7, 7]])"
      ]
     },
     "execution_count": 19,
     "metadata": {},
     "output_type": "execute_result"
    }
   ],
   "source": [
    "ar2D"
   ]
  },
  {
   "cell_type": "code",
   "execution_count": 20,
   "metadata": {},
   "outputs": [
    {
     "data": {
      "text/plain": [
       "4.666666666666667"
      ]
     },
     "execution_count": 20,
     "metadata": {},
     "output_type": "execute_result"
    }
   ],
   "source": [
    "ar2D.mean(axis=1)#Row wise\n",
    "ar2D.mean(axis=0)#column wise\n",
    "ar2D.mean()#all values"
   ]
  },
  {
   "cell_type": "code",
   "execution_count": 21,
   "metadata": {},
   "outputs": [
    {
     "data": {
      "text/plain": [
       "array([  1.,   2.,   4.,   5.,   6.,   7.,   8.,   9.,  10.,  11.,  12.,\n",
       "        13.,  14.,  15.,  16.,  17.,  18.,  19.,  20.,  21.,  22.,  23.,\n",
       "        24.,  25.,  26.,  27., 100.])"
      ]
     },
     "execution_count": 21,
     "metadata": {},
     "output_type": "execute_result"
    }
   ],
   "source": [
    "#filtering\n",
    "#ar3D\n",
    "npArray"
   ]
  },
  {
   "cell_type": "code",
   "execution_count": 22,
   "metadata": {},
   "outputs": [
    {
     "data": {
      "text/plain": [
       "array([ 7.,  8.,  9., 10., 11., 12., 13., 14., 15., 16., 17., 18., 19.])"
      ]
     },
     "execution_count": 22,
     "metadata": {},
     "output_type": "execute_result"
    }
   ],
   "source": [
    "npArray[(npArray>6) & (npArray<20)]"
   ]
  },
  {
   "cell_type": "code",
   "execution_count": 24,
   "metadata": {},
   "outputs": [
    {
     "data": {
      "text/plain": [
       "array([ 1.,  5.,  7.,  9., 11., 13., 15., 17., 19., 21., 23., 25., 27.])"
      ]
     },
     "execution_count": 24,
     "metadata": {},
     "output_type": "execute_result"
    }
   ],
   "source": [
    "npArray[(npArray%2==0)]#Even Value\n",
    "npArray[~(npArray%2==0)]#Odd values"
   ]
  },
  {
   "cell_type": "code",
   "execution_count": 25,
   "metadata": {},
   "outputs": [
    {
     "data": {
      "text/plain": [
       "array([1.00e+00, 4.00e+00, 1.60e+01, 2.50e+01, 3.60e+01, 4.90e+01,\n",
       "       6.40e+01, 8.10e+01, 1.00e+02, 1.21e+02, 1.44e+02, 1.69e+02,\n",
       "       1.96e+02, 2.25e+02, 2.56e+02, 2.89e+02, 3.24e+02, 3.61e+02,\n",
       "       4.00e+02, 4.41e+02, 4.84e+02, 5.29e+02, 5.76e+02, 6.25e+02,\n",
       "       6.76e+02, 7.29e+02, 1.00e+04])"
      ]
     },
     "execution_count": 25,
     "metadata": {},
     "output_type": "execute_result"
    }
   ],
   "source": [
    "npArray // 2#Integer devision\n",
    "npArray + 2\n",
    "npArray - 2\n",
    "npArray * 2\n",
    "npArray / 2\n",
    "npArray ** 2 #power calculate"
   ]
  },
  {
   "cell_type": "code",
   "execution_count": 26,
   "metadata": {},
   "outputs": [
    {
     "data": {
      "text/plain": [
       "array([  2.,   4.,   8.,  10.,  12.,  14.,  16.,  18.,  20.,  22.,  24.,\n",
       "        26.,  28.,  30.,  32.,  34.,  36.,  38.,  40.,  42.,  44.,  46.,\n",
       "        48.,  50.,  52.,  54., 200.])"
      ]
     },
     "execution_count": 26,
     "metadata": {},
     "output_type": "execute_result"
    }
   ],
   "source": [
    "npArray * npArray \n",
    "npArray + npArray #vector multiplication"
   ]
  },
  {
   "cell_type": "code",
   "execution_count": 27,
   "metadata": {},
   "outputs": [
    {
     "data": {
      "text/plain": [
       "array([12, 14, 16])"
      ]
     },
     "execution_count": 27,
     "metadata": {},
     "output_type": "execute_result"
    }
   ],
   "source": [
    "#Matrix Multiplication\n",
    "ar2D\n",
    "ar2D @ ar2D , ar2D * ar2D #Matrix Multiplication\n"
   ]
  },
  {
   "cell_type": "code",
   "execution_count": 28,
   "metadata": {},
   "outputs": [
    {
     "data": {
      "text/plain": [
       "array([ 0.84147098,  0.90929743, -0.7568025 , -0.95892427, -0.2794155 ,\n",
       "        0.6569866 ,  0.98935825,  0.41211849, -0.54402111, -0.99999021,\n",
       "       -0.53657292,  0.42016704,  0.99060736,  0.65028784, -0.28790332,\n",
       "       -0.96139749, -0.75098725,  0.14987721,  0.91294525,  0.83665564,\n",
       "       -0.00885131, -0.8462204 , -0.90557836, -0.13235175,  0.76255845,\n",
       "        0.95637593, -0.50636564])"
      ]
     },
     "execution_count": 28,
     "metadata": {},
     "output_type": "execute_result"
    }
   ],
   "source": [
    "#Sin cos calculation\n",
    "np.sin(npArray)"
   ]
  },
  {
   "cell_type": "code",
   "execution_count": 29,
   "metadata": {},
   "outputs": [
    {
     "data": {
      "text/plain": [
       "array([[ 30,  33,  36],\n",
       "       [ 66,  75,  84],\n",
       "       [ 84,  98, 112]])"
      ]
     },
     "execution_count": 29,
     "metadata": {},
     "output_type": "execute_result"
    }
   ],
   "source": [
    "#prb\n",
    "\n",
    "np.dot(ar2D,ar2D)#why use dot product"
   ]
  },
  {
   "cell_type": "code",
   "execution_count": 95,
   "metadata": {},
   "outputs": [
    {
     "data": {
      "text/plain": [
       "array([[[  1.,  10.,  19.],\n",
       "        [  4.,  13.,  22.],\n",
       "        [  7.,  16.,  25.]],\n",
       "\n",
       "       [[  2.,  11.,  20.],\n",
       "        [  5.,  14.,  23.],\n",
       "        [  8.,  17.,  26.]],\n",
       "\n",
       "       [[100.,  12.,  21.],\n",
       "        [  6.,  15.,  24.],\n",
       "        [  9.,  18.,  27.]]])"
      ]
     },
     "execution_count": 95,
     "metadata": {},
     "output_type": "execute_result"
    }
   ],
   "source": [
    "#Transpose\n",
    "np.transpose(ar2D)#Row will be col col will be row\n",
    "ar2D.T #another way to get transpose\n",
    "np.transpose(ar3D)#prb 3d"
   ]
  },
  {
   "cell_type": "code",
   "execution_count": 78,
   "metadata": {},
   "outputs": [
    {
     "data": {
      "text/plain": [
       "array([[[  1.,   2., 100.],\n",
       "        [  4.,   5.,   6.],\n",
       "        [  7.,   8.,   9.]],\n",
       "\n",
       "       [[ 10.,  11.,  12.],\n",
       "        [ 13.,  14.,  15.],\n",
       "        [ 16.,  17.,  18.]],\n",
       "\n",
       "       [[ 19.,  20.,  21.],\n",
       "        [ 22.,  23.,  24.],\n",
       "        [ 25.,  26.,  27.]]])"
      ]
     },
     "execution_count": 78,
     "metadata": {},
     "output_type": "execute_result"
    }
   ],
   "source": [
    "ar3D"
   ]
  },
  {
   "cell_type": "code",
   "execution_count": 88,
   "metadata": {},
   "outputs": [
    {
     "data": {
      "text/plain": [
       "0.0"
      ]
     },
     "execution_count": 88,
     "metadata": {},
     "output_type": "execute_result"
    }
   ],
   "source": [
    "#prb\n",
    "\n",
    "from numpy import linalg as l\n",
    "l.det(ar2D)#find matrix determinate\n",
    "# l.inv(ar2D)#inverse of matrix  prb show error"
   ]
  },
  {
   "cell_type": "code",
   "execution_count": 100,
   "metadata": {},
   "outputs": [
    {
     "data": {
      "text/plain": [
       "15.427248620541512"
      ]
     },
     "execution_count": 100,
     "metadata": {},
     "output_type": "execute_result"
    }
   ],
   "source": [
    "l.norm(ar2D)  #prb why use norm \n"
   ]
  },
  {
   "cell_type": "code",
   "execution_count": 101,
   "metadata": {},
   "outputs": [
    {
     "data": {
      "text/plain": [
       "(array([1. , 1.3, 1.6, 1.9, 2.2, 2.5, 2.8, 3.1, 3.4, 3.7, 4. , 4.3, 4.6,\n",
       "        4.9, 5.2, 5.5, 5.8, 6.1, 6.4, 6.7, 7. , 7.3, 7.6, 7.9, 8.2, 8.5,\n",
       "        8.8, 9.1, 9.4, 9.7]),\n",
       " 0.3)"
      ]
     },
     "execution_count": 101,
     "metadata": {},
     "output_type": "execute_result"
    }
   ],
   "source": [
    "#generate 1D \n",
    "np.linspace(1,10,30 ,retstep=True ,endpoint=False) #will get 30 values within 1 to 10 #lower range ,upper range, 30 values #not include endpoint value\n"
   ]
  },
  {
   "cell_type": "code",
   "execution_count": 30,
   "metadata": {},
   "outputs": [
    {
     "data": {
      "text/plain": [
       "array([[0, 1, 2],\n",
       "       [0, 1, 2],\n",
       "       [0, 1, 2]], dtype=int64)"
      ]
     },
     "execution_count": 30,
     "metadata": {},
     "output_type": "execute_result"
    }
   ],
   "source": [
    "np.cross(ar2D,ar2D)#if we cross same value then it will provide 0\n",
    "np.c_[npArray,npArray+2]  #just merge vertically\n",
    "ar2D.ravel()#convert 2d to 1d array\n",
    "ar2D.argmax()#return maximum value in which index\n",
    "ar2D.argmin()#return min index number\n",
    "ar2D.argsort()#it will sort index wise"
   ]
  },
  {
   "cell_type": "code",
   "execution_count": 31,
   "metadata": {},
   "outputs": [
    {
     "data": {
      "text/plain": [
       "[array([[1, 3, 5, 7, 9],\n",
       "        [1, 3, 5, 7, 9],\n",
       "        [1, 3, 5, 7, 9],\n",
       "        [1, 3, 5, 7, 9],\n",
       "        [1, 3, 5, 7, 9]]),\n",
       " array([[10, 10, 10, 10, 10],\n",
       "        [12, 12, 12, 12, 12],\n",
       "        [14, 14, 14, 14, 14],\n",
       "        [16, 16, 16, 16, 16],\n",
       "        [18, 18, 18, 18, 18]])]"
      ]
     },
     "execution_count": 31,
     "metadata": {},
     "output_type": "execute_result"
    }
   ],
   "source": [
    "np.meshgrid(np.arange(1,10,2),np.arange(10,20,2)) #generate 2d array"
   ]
  }
 ],
 "metadata": {
  "kernelspec": {
   "display_name": "Python 3.10.4 64-bit",
   "language": "python",
   "name": "python3"
  },
  "language_info": {
   "codemirror_mode": {
    "name": "ipython",
    "version": 3
   },
   "file_extension": ".py",
   "mimetype": "text/x-python",
   "name": "python",
   "nbconvert_exporter": "python",
   "pygments_lexer": "ipython3",
   "version": "3.10.4"
  },
  "orig_nbformat": 4,
  "vscode": {
   "interpreter": {
    "hash": "c81d839d3c4227cd770621df97fe8191838af02e7eef185a922d8250cb33d344"
   }
  }
 },
 "nbformat": 4,
 "nbformat_minor": 2
}
