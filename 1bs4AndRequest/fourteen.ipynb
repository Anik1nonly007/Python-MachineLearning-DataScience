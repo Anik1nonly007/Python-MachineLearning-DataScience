{
 "cells": [
  {
   "cell_type": "code",
   "execution_count": null,
   "metadata": {},
   "outputs": [],
   "source": [
    "import requests"
   ]
  },
  {
   "cell_type": "code",
   "execution_count": null,
   "metadata": {},
   "outputs": [],
   "source": [
    "#You should consider upgrading via  'c:\\python3.9.6\\python.exe -m pip install --upgrade pip' command.\n",
    "! pip install requests"
   ]
  },
  {
   "cell_type": "code",
   "execution_count": null,
   "metadata": {},
   "outputs": [],
   "source": [
    "import requests"
   ]
  },
  {
   "cell_type": "code",
   "execution_count": null,
   "metadata": {},
   "outputs": [],
   "source": [
    "#Get data only first page\n",
    "response = requests.get(r'https://reqres.in/api/users')\n",
    "response.status_code ,response.ok"
   ]
  },
  {
   "cell_type": "code",
   "execution_count": null,
   "metadata": {},
   "outputs": [],
   "source": [
    "response.headers"
   ]
  },
  {
   "cell_type": "code",
   "execution_count": null,
   "metadata": {},
   "outputs": [],
   "source": [
    "response.text# give data in  text format"
   ]
  },
  {
   "cell_type": "code",
   "execution_count": null,
   "metadata": {},
   "outputs": [],
   "source": [
    "response.content #Bite format"
   ]
  },
  {
   "cell_type": "code",
   "execution_count": null,
   "metadata": {},
   "outputs": [],
   "source": [
    "response.json()['data'][5]['email']\n"
   ]
  },
  {
   "cell_type": "code",
   "execution_count": null,
   "metadata": {},
   "outputs": [],
   "source": [
    "#Get data of all page\n",
    "data={}\n",
    "for page in range(1,13):\n",
    "    response = requests.get(r'https://reqres.in/api/users' , params={'page':page})\n",
    "    data [page]=response.json()"
   ]
  },
  {
   "cell_type": "code",
   "execution_count": null,
   "metadata": {},
   "outputs": [],
   "source": [
    "data"
   ]
  },
  {
   "cell_type": "code",
   "execution_count": 9,
   "metadata": {},
   "outputs": [
    {
     "data": {
      "text/plain": [
       "{'id': 1,\n",
       " 'name': 'cerulean',\n",
       " 'year': 2000,\n",
       " 'color': '#98B2D1',\n",
       " 'pantone_value': '15-4020'}"
      ]
     },
     "execution_count": 9,
     "metadata": {},
     "output_type": "execute_result"
    }
   ],
   "source": [
    "response2 = requests.get(r'https://reqres.in/api/unknown')\n",
    "response2.status_code,response2.ok\n",
    "response2.json()['data'][0]"
   ]
  },
  {
   "cell_type": "code",
   "execution_count": 10,
   "metadata": {},
   "outputs": [
    {
     "data": {
      "text/plain": [
       "{'id': '283', 'createdAt': '2021-11-02T20:01:50.584Z'}"
      ]
     },
     "execution_count": 10,
     "metadata": {},
     "output_type": "execute_result"
    }
   ],
   "source": [
    "#POST data\n",
    "params={\n",
    "    'name' : 'Anik',\n",
    "    'job'   : 'Leader'\n",
    "}\n",
    "response3 = requests.post(r'https://reqres.in/api/users', params=params)\n",
    "response3.ok,response3.status_code\n",
    "response3.json()"
   ]
  }
 ],
 "metadata": {
  "interpreter": {
   "hash": "6f3286a94e22de8ff5948a9c103fc84fc0d73fd4e82b66075ca633ecac3f2b43"
  },
  "kernelspec": {
   "display_name": "Python 3.9.6 64-bit",
   "name": "python3"
  },
  "language_info": {
   "codemirror_mode": {
    "name": "ipython",
    "version": 3
   },
   "file_extension": ".py",
   "mimetype": "text/x-python",
   "name": "python",
   "nbconvert_exporter": "python",
   "pygments_lexer": "ipython3",
   "version": "3.9.6"
  },
  "orig_nbformat": 4
 },
 "nbformat": 4,
 "nbformat_minor": 2
}
