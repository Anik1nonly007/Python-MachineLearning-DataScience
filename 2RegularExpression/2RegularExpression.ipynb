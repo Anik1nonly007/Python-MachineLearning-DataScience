{
 "cells": [
  {
   "cell_type": "code",
   "execution_count": 2,
   "metadata": {},
   "outputs": [],
   "source": [
    "#Notes for validation\n",
    "# https://support.google.com/analytics/answer/1034324?hl=en\n",
    "# https://support.google.com/a/answer/1371415?hl=en\n",
    "# https://developers.google.com/edu/python/regular-expressions\n",
    "\n",
    "import re"
   ]
  },
  {
   "cell_type": "code",
   "execution_count": 70,
   "metadata": {},
   "outputs": [
    {
     "data": {
      "text/plain": [
       "<re.Match object; span=(0, 14), match='ab@gmail.commm'>"
      ]
     },
     "execution_count": 70,
     "metadata": {},
     "output_type": "execute_result"
    }
   ],
   "source": [
    "email = 'ab@gmail.commm'\n",
    "#\\w means any charecter,. one kind of re symbol so we use \\.\n",
    "# (+)at least one char and num be present from this sequence ,a-z0-9....\n",
    "# (*)0 or more occarance ,not mendatory that 1 char is present\n",
    "# (?)it will take 0 or 1 char,if more than 1char or digit given then it will not matching\n",
    "#patern = re.compile(r'[a-z0-9]+@+[a-z]+\\.com')#way 1   # (+)at least one char and num be present from this sequence ,a-z0-9....\n",
    "#patern = re.compile(r'[a-z0-9]*@*[a-z]*\\.com')#way 2  # (*)0 or more occarance ,not mendatory that 1 char is present\n",
    "#patern = re.compile(r'\\w+@+\\w+\\.com')#way 3\n",
    "#patern = re.compile(r'\\w*@+\\w*\\.com')#way 4\n",
    "#patern = re.compile(r'\\w+@+\\w+\\.\\w{3,5}')#it will take up to 5 char, and will remove after 5char\n",
    "#patern = re.compile(r'^a\\w+@+\\w+\\.\\w{3,5}$')#email starts with a\n",
    "#patern = re.compile(r'^a\\w+@+\\w+\\.\\w{3,5}mm$')#email ends with mm\n",
    "patern = re.compile(r'^a[a-zA-Z0-9]?@+[a-z]+\\.\\w{3,5}m$')# (?)it will take 0 or 1 char,if more than 1char or digit given then it will not matching\n",
    "patern.match(email)"
   ]
  },
  {
   "cell_type": "code",
   "execution_count": 95,
   "metadata": {},
   "outputs": [
    {
     "data": {
      "text/plain": [
       "<re.Match object; span=(0, 18), match='inter.hrv@gmail.bd'>"
      ]
     },
     "execution_count": 95,
     "metadata": {},
     "output_type": "execute_result"
    }
   ],
   "source": [
    "#Shortcut way of patern matching\n",
    "#re.match(r'^a[a-zA-Z0-9]+@+[a-z]+\\.\\w{3,5}m$' , 'an@gmail.commm')\n",
    "\n",
    "#validate this email\n",
    "# inter.hrv@hrventure.bd\n",
    "re.match(r'[a-z]+\\.[a-z]+@(hrventure|gmail)+\\.\\w{2,3}$' , 'inter.hrv@gmail.bd')#it will take hrventure or gmail"
   ]
  },
  {
   "cell_type": "code",
   "execution_count": 3,
   "metadata": {},
   "outputs": [
    {
     "data": {
      "text/plain": [
       "<re.Match object; span=(0, 14), match='+8801680728542'>"
      ]
     },
     "execution_count": 3,
     "metadata": {},
     "output_type": "execute_result"
    }
   ],
   "source": [
    "#\\d(group) means 1 number should be present within  0 to 9 \\s means space\n",
    "re.match(r'^\\+(\\d{3})\\s*(\\d{10})$' , '+8801680728542')"
   ]
  },
  {
   "cell_type": "code",
   "execution_count": 31,
   "metadata": {},
   "outputs": [
    {
     "data": {
      "text/plain": [
       "{'code': '880', 'no': '1680728542'}"
      ]
     },
     "execution_count": 31,
     "metadata": {},
     "output_type": "execute_result"
    }
   ],
   "source": [
    "re.match(r'^\\+(?P<code>\\d{3})\\s*(?P<no>\\d{10})$' , '+8801680728542').groupdict()\n",
    "#re.match(r'^\\+(?P<code>\\d{3})\\s*(?P<no>\\d{10})$' , '+8801680728542').groupdict()['no']"
   ]
  },
  {
   "cell_type": "code",
   "execution_count": 12,
   "metadata": {},
   "outputs": [
    {
     "data": {
      "text/plain": [
       "<re.Match object; span=(57, 75), match='inter.hrv@gmail.bd'>"
      ]
     },
     "execution_count": 12,
     "metadata": {},
     "output_type": "execute_result"
    }
   ],
   "source": [
    "data = 'Find correct mail aniK@gmail.commm and abC@hrv.commm and inter.hrv@gmail.bd and inter.hrv@hrventure.bd'\n",
    "re.search(r'[a-z]+\\.[a-z]+@(hrventure|gmail)+\\.\\w{2,3}' ,data)"
   ]
  },
  {
   "cell_type": "code",
   "execution_count": 26,
   "metadata": {},
   "outputs": [
    {
     "data": {
      "text/plain": [
       "[('inter.hrv@gmail.bd', 'gmail'), ('inter.hrv@hrventure.bd', 'hrventure')]"
      ]
     },
     "execution_count": 26,
     "metadata": {},
     "output_type": "execute_result"
    }
   ],
   "source": [
    "re.findall(r'([a-z]+\\.[a-z]+@(hrventure|gmail)\\.\\w{2})' ,data)"
   ]
  },
  {
   "cell_type": "code",
   "execution_count": 47,
   "metadata": {},
   "outputs": [
    {
     "data": {
      "text/plain": [
       "'Find correct mail aniK@gmail.commm and abC@hrv.commm and @ABC and inter.hrv@hrventure.bd'"
      ]
     },
     "execution_count": 47,
     "metadata": {},
     "output_type": "execute_result"
    }
   ],
   "source": [
    "re.sub(r'([a-z]+\\.[a-z]+@(hrventure|gmail)\\.\\w{2})' , '@ABC' ,data , count=1)\n",
    "#re.sub(r'([a-z]+\\.[a-z]+@(hrventure|gmail)\\.\\w{2})' , '@ABC' ,data)"
   ]
  },
  {
   "cell_type": "code",
   "execution_count": 48,
   "metadata": {},
   "outputs": [
    {
     "data": {
      "text/plain": [
       "['Find correct mail aniK@gmail.commm and abC@hrv.commm and ',\n",
       " 'inter.hrv@gmail.bd',\n",
       " 'gmail',\n",
       " ' and inter.hrv@hrventure.bd']"
      ]
     },
     "execution_count": 48,
     "metadata": {},
     "output_type": "execute_result"
    }
   ],
   "source": [
    "#re.split(r'([a-z]+\\.[a-z]+@(hrventure|gmail)\\.\\w{2})',data)\n",
    "re.split(r'([a-z]+\\.[a-z]+@(hrventure|gmail)\\.\\w{2})',data , maxsplit=1)"
   ]
  },
  {
   "cell_type": "code",
   "execution_count": 36,
   "metadata": {},
   "outputs": [],
   "source": [
    "iter = re.finditer(r'([a-z]+\\.[a-z]+@(hrventure|gmail)\\.\\w{2})' ,data)"
   ]
  },
  {
   "cell_type": "code",
   "execution_count": 37,
   "metadata": {},
   "outputs": [
    {
     "data": {
      "text/plain": [
       "<re.Match object; span=(57, 75), match='inter.hrv@gmail.bd'>"
      ]
     },
     "execution_count": 37,
     "metadata": {},
     "output_type": "execute_result"
    }
   ],
   "source": [
    "next(iter)"
   ]
  }
 ],
 "metadata": {
  "interpreter": {
   "hash": "6f3286a94e22de8ff5948a9c103fc84fc0d73fd4e82b66075ca633ecac3f2b43"
  },
  "kernelspec": {
   "display_name": "Python 3.9.6 64-bit",
   "language": "python",
   "name": "python3"
  },
  "language_info": {
   "codemirror_mode": {
    "name": "ipython",
    "version": 3
   },
   "file_extension": ".py",
   "mimetype": "text/x-python",
   "name": "python",
   "nbconvert_exporter": "python",
   "pygments_lexer": "ipython3",
   "version": "3.9.6"
  },
  "orig_nbformat": 4
 },
 "nbformat": 4,
 "nbformat_minor": 2
}
